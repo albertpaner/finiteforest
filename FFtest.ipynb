{
 "cells": [
  {
   "cell_type": "code",
   "execution_count": 10,
   "metadata": {},
   "outputs": [],
   "source": [
    "# represent objects of F*\n",
    "class FF:\n",
    "\n",
    "    def __init__(self, trees):\n",
    "        # Assign the trees argument to an instance variable called trees\n",
    "        self.trees = trees\n",
    "\n",
    "    def __iter__(self):\n",
    "        # Use the iter() function to create an iterator object from the list of trees\n",
    "        return iter(self.trees)\n",
    "    \n",
    "    def __add__(self, other):\n",
    "        # Call the sum_ff function on the two input instances\n",
    "        return sum_ff(self, other)\n",
    "    \n",
    "    def __eq__(self, other):\n",
    "        # Check if the other object is an instance of the FF class\n",
    "        if isinstance(other, FF):\n",
    "            # Compare the trees instance variable of both objects using the == operator\n",
    "            return self.trees == other.trees\n",
    "        # If the other object is not an instance of the FF class, return False\n",
    "        return False\n",
    "    \n",
    "    def __iadd__(self, other):\n",
    "        # Check if the other object is an instance of the FF class\n",
    "        if isinstance(other, FF):\n",
    "            # Create a new list of trees by concatenating the trees from self and other\n",
    "            new_trees = self.trees + other.trees\n",
    "            # Update the trees instance variable of the self object with the new list of trees\n",
    "            self.trees = new_trees\n",
    "        # Return the updated self object\n",
    "        return self\n",
    "    \n",
    "    def __mul__(self, other):\n",
    "        # Check if the other object is an instance of the FF class\n",
    "        if isinstance(other, FF):\n",
    "            # Call the prod_ff function with self and other as arguments and return the result\n",
    "            return prod_ff(self, other)\n",
    "        # If the other object is not an instance of the FF class, return NotImplemented\n",
    "        return NotImplemented"
   ]
  },
  {
   "cell_type": "code",
   "execution_count": 11,
   "metadata": {},
   "outputs": [],
   "source": [
    "def tree_length(tree):\n",
    "    # Base case: if the tree is empty, return 0\n",
    "    if not tree:\n",
    "        return 0\n",
    "    # Recursive case: return 1 plus the sum of the lengths of the subtrees\n",
    "    return 1 + sum(tree_length(subtree) for subtree in tree.values())"
   ]
  },
  {
   "cell_type": "code",
   "execution_count": 12,
   "metadata": {},
   "outputs": [],
   "source": [
    "def print_tree_lengths(ff):\n",
    "    for i, tree in enumerate(ff.trees):\n",
    "        length = tree_length(tree)\n",
    "        print(f\"Tree {i+1}: {length}\")"
   ]
  },
  {
   "cell_type": "code",
   "execution_count": 13,
   "metadata": {},
   "outputs": [],
   "source": [
    "from pprint import pprint\n",
    "\n",
    "def display_trees(ff):\n",
    "    # Iterate over the trees in the FF object\n",
    "    for tree in ff:\n",
    "        # Call the pprint function to pretty-print the tree\n",
    "        pprint(tree)\n",
    "        \n"
   ]
  },
  {
   "cell_type": "code",
   "execution_count": 14,
   "metadata": {},
   "outputs": [],
   "source": [
    "# tree objects are represented as nested dictionaries, \n",
    "# where the keys represent the names of the nodes \n",
    "# and the values represent the children of the nodes.\n",
    "\n",
    "# Define two trees in dictionary form\n",
    "tree1 = {\"f\": {}}\n",
    "tree2 = {\"t\": {\"n\": {}}}\n",
    "# Create an reinstance of the FF class called Omega, passing in the trees list as an argument\n",
    "Omega = FF([tree1,tree2])"
   ]
  },
  {
   "cell_type": "code",
   "execution_count": 15,
   "metadata": {},
   "outputs": [],
   "source": [
    "# Initial object in F*\n",
    "\n",
    "Zero = FF([])\n",
    "\n",
    "# Terminal object in F*\n",
    "\n",
    "One = FF([{\"One\": {}}])"
   ]
  },
  {
   "cell_type": "code",
   "execution_count": 16,
   "metadata": {},
   "outputs": [
    {
     "name": "stdout",
     "output_type": "stream",
     "text": [
      "{'f': {}}\n",
      "{'t': {'n': {}}}\n"
     ]
    }
   ],
   "source": [
    "display_trees(Omega)"
   ]
  },
  {
   "cell_type": "code",
   "execution_count": 17,
   "metadata": {},
   "outputs": [],
   "source": [
    "def count_keys(tree):\n",
    "    # Initialize the count to the number of keys in the root node\n",
    "    count = len(tree)\n",
    "    # Iterate over the child nodes\n",
    "    for child in tree.values():\n",
    "        # Recursively count the number of keys in the subtree rooted at the child node\n",
    "        count += count_keys(child)\n",
    "    return count\n",
    "\n",
    "def card(F):\n",
    "    # Check if F has an empty list of trees\n",
    "    if len(F.trees) == 0:\n",
    "        return 0\n",
    "    \n",
    "    # Check if F has a list of trees with a single element\n",
    "    if len(F.trees) > 1:\n",
    "        return \"undefined\"\n",
    "    \n",
    "    # Get the single tree\n",
    "    tree = F.trees[0]\n",
    "    \n",
    "    # Return the result of calling the count_keys function on the tree\n",
    "    return count_keys(tree)"
   ]
  },
  {
   "cell_type": "code",
   "execution_count": 18,
   "metadata": {},
   "outputs": [],
   "source": [
    "def update_keys(tree, root_counts, count):\n",
    "    # Iterate over the keys in the tree\n",
    "    for key in list(tree.keys()):\n",
    "        # Check if the key is in root_counts\n",
    "        if key in root_counts:\n",
    "            # Increment the count for this key\n",
    "            root_counts[key] += 1\n",
    "            # Create a new unique key by appending the count to the key's name\n",
    "            new_key = f\"{key}_{root_counts[key]}\"\n",
    "            # Move the value associated with the old key to the new key\n",
    "            tree[new_key] = tree.pop(key)\n",
    "            # Recursively update the keys of all subtrees\n",
    "            update_keys(tree[new_key], root_counts, root_counts[key])\n",
    "        else:\n",
    "            # This is the first occurrence of this key, so initialize its count to 0\n",
    "            root_counts[key] = 0\n",
    "            # Recursively update the keys of all subtrees\n",
    "            update_keys(tree[key], root_counts, 0)\n",
    "\n",
    "\n",
    "def bott(ff_in, new_root_name):\n",
    "    # Create a new tree with new_root_name as its root and only node\n",
    "    bott_tree = {new_root_name: {}}\n",
    "\n",
    "    # Create a dictionary to keep track of the number of occurrences of each root node\n",
    "    root_counts = {}\n",
    "\n",
    "    # Iterate over the trees in ff_in\n",
    "    for tree in ff_in:\n",
    "        # Get the root node of the tree\n",
    "        tree_root = list(tree.keys())[0]\n",
    "\n",
    "        # Check if the root node has already been added to the bott_tree\n",
    "        if tree_root in root_counts:\n",
    "            # Increment the count for this root node\n",
    "            root_counts[tree_root] += 1\n",
    "            # Create a new unique key for this root node by appending the count to its name\n",
    "            new_key = f\"{tree_root}_{root_counts[tree_root]}\"\n",
    "            # Add the new key as a child of new_root_name\n",
    "            bott_tree[new_root_name][new_key] = tree[tree_root]\n",
    "            # Recursively update the keys of all subtrees\n",
    "            update_keys(bott_tree[new_root_name][new_key], root_counts, root_counts[tree_root])\n",
    "        else:\n",
    "            # This is the first occurrence of this root node, so add it to the bott_tree as is\n",
    "            bott_tree[new_root_name][tree_root] = tree[tree_root]\n",
    "            # Initialize the count for this root node to 0\n",
    "            root_counts[tree_root] = 0\n",
    "\n",
    "    # Create a new FF object with the single tree\n",
    "    return FF([bott_tree])\n"
   ]
  },
  {
   "cell_type": "code",
   "execution_count": 19,
   "metadata": {},
   "outputs": [
    {
     "name": "stdout",
     "output_type": "stream",
     "text": [
      "{'bott_omega': {'f': {}, 't': {'n': {}}}}\n"
     ]
    }
   ],
   "source": [
    "display_trees(bott(Omega, \"bott_omega\"))"
   ]
  },
  {
   "cell_type": "code",
   "execution_count": 20,
   "metadata": {},
   "outputs": [],
   "source": [
    "def trim(ff_in):\n",
    "    # Create a new list of trees for the output\n",
    "    new_trees = []\n",
    "    # Iterate over the trees in ff_in\n",
    "    for tree in ff_in:\n",
    "        # Get the root node of the tree\n",
    "        root = list(tree.keys())[0]\n",
    "        # Iterate over the child nodes of the root\n",
    "        for child in tree[root]:\n",
    "            # Get the subtree rooted at the child node\n",
    "            subtree = tree[root][child]\n",
    "            # Insert the subtree into the list of new trees\n",
    "            new_trees.append({child: subtree})\n",
    "    # Create a new FF object with the new list of trees\n",
    "    return FF(new_trees)"
   ]
  },
  {
   "cell_type": "code",
   "execution_count": 21,
   "metadata": {},
   "outputs": [
    {
     "name": "stdout",
     "output_type": "stream",
     "text": [
      "{'b_0': {'b_1': {'b_2': {}, 'b_3': {}}}}\n"
     ]
    }
   ],
   "source": [
    "tree = {\"b_0\": {\"b_1\": {\"b_2\": {}, \"b_3\": {} }}}\n",
    "Mu = FF([tree])\n",
    "display_trees(Mu)"
   ]
  },
  {
   "cell_type": "code",
   "execution_count": 22,
   "metadata": {},
   "outputs": [
    {
     "name": "stdout",
     "output_type": "stream",
     "text": [
      "{'b_1': {'b_2': {}, 'b_3': {}}}\n"
     ]
    }
   ],
   "source": [
    "trimmed_Mu = trim(Mu)\n",
    "display_trees(trimmed_Mu)"
   ]
  },
  {
   "cell_type": "code",
   "execution_count": 23,
   "metadata": {},
   "outputs": [],
   "source": [
    "def sum_ff(ff_1, ff_2):\n",
    "    return FF(ff_1.trees + ff_2.trees)"
   ]
  },
  {
   "cell_type": "code",
   "execution_count": 24,
   "metadata": {},
   "outputs": [],
   "source": [
    "ff_3 = Omega + Omega + Omega"
   ]
  },
  {
   "cell_type": "code",
   "execution_count": 25,
   "metadata": {},
   "outputs": [
    {
     "name": "stdout",
     "output_type": "stream",
     "text": [
      "{'f': {}}\n",
      "{'t': {'n': {}}}\n",
      "{'f': {}}\n",
      "{'t': {'n': {}}}\n",
      "{'f': {}}\n",
      "{'t': {'n': {}}}\n"
     ]
    }
   ],
   "source": [
    "display_trees(ff_3)"
   ]
  },
  {
   "cell_type": "code",
   "execution_count": 26,
   "metadata": {},
   "outputs": [
    {
     "name": "stdout",
     "output_type": "stream",
     "text": [
      "{'bott_ff_3': {'f': {},\n",
      "               'f_1': {},\n",
      "               'f_2': {},\n",
      "               't': {'n_1': {}},\n",
      "               't_1': {'n_1': {}},\n",
      "               't_2': {'n_1': {}}}}\n"
     ]
    }
   ],
   "source": [
    "display_trees(bott(ff_3, \"bott_ff_3\"))"
   ]
  },
  {
   "cell_type": "code",
   "execution_count": 27,
   "metadata": {},
   "outputs": [],
   "source": [
    "import copy\n",
    "\n",
    "def update_tree_node_names(tree, suffix):\n",
    "    # Create a new dictionary to store the updated tree\n",
    "    updated_tree = {}\n",
    "    # Iterate over the nodes in the tree\n",
    "    for node_name, children in tree.items():\n",
    "        # Update the name of the node with the specified suffix\n",
    "        updated_node_name = f\"{node_name}_{suffix}\"\n",
    "        # Recursively update the names of the child nodes\n",
    "        updated_children = update_tree_node_names(children, suffix)\n",
    "        # Add the updated node to the updated tree\n",
    "        updated_tree[updated_node_name] = updated_children\n",
    "    return updated_tree\n",
    "\n",
    "\n",
    "def prod_ff(F, G):\n",
    "    \n",
    "    # Check if the list of trees in F or the list of trees in G has more than one element\n",
    "    if len(F.trees) > 1 or len(G.trees) > 1:\n",
    "        # Create a list of FF objects for F each with a single tree s.t. their sum is equal to F\n",
    "        F_list = [FF([tree]) for tree in F.trees]\n",
    "        # Create a list of FF objects for G each with a single tree s.t. their sum is equal to G\n",
    "        G_list = [FF([tree]) for tree in G.trees]\n",
    "        # Initialize the result to an empty FF object\n",
    "        result = FF([])\n",
    "        #DEBUG_1\n",
    "        #print(\"DEBUG_1\")\n",
    "        #display_trees(result)\n",
    "        # Iterate over the FF objects in F_list and G_list\n",
    "        for i, F_i in enumerate(F_list):\n",
    "            for j, G_j in enumerate(G_list):\n",
    "                # Compute the product of F_i and G_j and add it to the result\n",
    "                prod = F_i * G_j\n",
    "                result += prod\n",
    "                #DEBUG_loop\n",
    "                #print(\"DEBUG_loop\")\n",
    "                #print(f\"i: {i}, j: {j}\")\n",
    "                #display_trees(result)\n",
    "    else:\n",
    "        # 0 x G = F x 0 = 0\n",
    "        if F == Zero or G == Zero:\n",
    "            return Zero\n",
    "        \n",
    "        # 1 x G = G\n",
    "        if len(F.trees) == 1 and tree_length(F.trees[0]) == 1:\n",
    "            # Get the name of the node in the singleton tree in F\n",
    "            F_node_name = list(F.trees[0].keys())[0]\n",
    "            # Create a new list of trees for the updated G object\n",
    "            updated_G_trees = []\n",
    "            # Iterate over the trees in G\n",
    "            for tree in G.trees:\n",
    "                # Create a copy of the tree\n",
    "                updated_tree = copy.deepcopy(tree)\n",
    "                # Update the names of all nodes in the tree with an _ followed by F_node_name\n",
    "                updated_tree = update_tree_node_names(updated_tree, F_node_name)\n",
    "                # Add the updated tree to the list of updated trees\n",
    "                updated_G_trees.append(updated_tree)\n",
    "            # Create a new FF object with the updated list of trees\n",
    "            updated_G = FF(updated_G_trees)\n",
    "            return updated_G\n",
    "\n",
    "        # F x 1 = F\n",
    "        elif len(G.trees) == 1 and tree_length(G.trees[0]) == 1:\n",
    "            # Get the name of the node in the singleton tree in G\n",
    "            G_node_name = list(G.trees[0].keys())[0]\n",
    "            # Create a new list of trees for the updated F object\n",
    "            updated_F_trees = []\n",
    "            # Iterate over the trees in F\n",
    "            for tree in F.trees:\n",
    "                # Create a copy of the tree\n",
    "                updated_tree = copy.deepcopy(tree)\n",
    "                # Update the names of all nodes in the tree with an _ followed by G_node_name\n",
    "                updated_tree = update_tree_node_names(updated_tree, G_node_name)\n",
    "                # Add the updated tree to the list of updated trees\n",
    "                updated_F_trees.append(updated_tree)\n",
    "            # Create a new FF object with the updated list of trees\n",
    "            updated_F = FF(updated_F_trees)\n",
    "            return updated_F\n",
    "        \n",
    "        # F_ x G_ = ((F x G_) + (F x G) + (F_ x G))_\n",
    "        # If neither F nor G is Zero or has a single node\n",
    "        elif not (F == Zero or G == Zero \n",
    "                or (len(F.trees) == 1 and tree_length(F.trees[0]) == 1) \n",
    "                or (len(G.trees) == 1 and tree_length(G.trees[0]) == 1)):\n",
    "            # Get the names of the root nodes in F and G\n",
    "            F_root_name = list(F.trees[0].keys())[0]\n",
    "            G_root_name = list(G.trees[0].keys())[0]\n",
    "            # Concatenate the names with an underscore separator\n",
    "            new_root_name = f\"{F_root_name}_{G_root_name}\"\n",
    "            # Call bott with F and new_root_name as arguments\n",
    "            return bott((trim(F) * G) + (trim(F) * trim(G)) + (F * trim(G)), new_root_name)\n",
    "               \n",
    "    return result"
   ]
  },
  {
   "cell_type": "code",
   "execution_count": 28,
   "metadata": {},
   "outputs": [
    {
     "name": "stdout",
     "output_type": "stream",
     "text": [
      "{'a_0': {}}\n",
      "{'b_0': {}}\n"
     ]
    }
   ],
   "source": [
    "One_a = FF([{\"a_0\": {}}])\n",
    "One_b = FF([{\"b_0\": {}}])\n",
    "display_trees(One_a)\n",
    "display_trees(One_b)"
   ]
  },
  {
   "cell_type": "code",
   "execution_count": 29,
   "metadata": {},
   "outputs": [
    {
     "name": "stdout",
     "output_type": "stream",
     "text": [
      "{'a_0_b_0': {}}\n"
     ]
    }
   ],
   "source": [
    "H = One_b * One_a\n",
    "display_trees(H)"
   ]
  },
  {
   "cell_type": "code",
   "execution_count": 30,
   "metadata": {},
   "outputs": [
    {
     "name": "stdout",
     "output_type": "stream",
     "text": [
      "{'b_0': {}}\n",
      "{'a_0': {'a_1': {}}}\n"
     ]
    }
   ],
   "source": [
    "One_b = FF([{\"b_0\": {}}])\n",
    "Two_a = FF([{\"a_0\": {\"a_1\": {}}}])\n",
    "display_trees(One_b)\n",
    "display_trees(Two_a)"
   ]
  },
  {
   "cell_type": "code",
   "execution_count": 31,
   "metadata": {},
   "outputs": [
    {
     "name": "stdout",
     "output_type": "stream",
     "text": [
      "{'a_0_b_0': {'a_1_b_0': {}}}\n"
     ]
    }
   ],
   "source": [
    "H = One_b * Two_a\n",
    "display_trees(H)"
   ]
  },
  {
   "cell_type": "code",
   "execution_count": 32,
   "metadata": {},
   "outputs": [
    {
     "name": "stdout",
     "output_type": "stream",
     "text": [
      "{'a_0': {'a_1': {}}}\n",
      "{'b_0': {'b_1': {}}}\n"
     ]
    }
   ],
   "source": [
    "Two_a = FF([{\"a_0\": {\"a_1\": {}}}])\n",
    "Two_b = FF([{\"b_0\": {\"b_1\": {}}}])\n",
    "display_trees(Two_a)\n",
    "display_trees(Two_b)"
   ]
  },
  {
   "cell_type": "code",
   "execution_count": 33,
   "metadata": {},
   "outputs": [
    {
     "name": "stdout",
     "output_type": "stream",
     "text": [
      "{'b_0_a_0': {'a_0_b_1': {'a_1_b_1': {}},\n",
      "             'a_1_b_1': {},\n",
      "             'b_0_a_1': {'b_1_a_1': {}}}}\n"
     ]
    }
   ],
   "source": [
    "H = Two_b * Two_a\n",
    "display_trees(H)"
   ]
  },
  {
   "cell_type": "code",
   "execution_count": 34,
   "metadata": {},
   "outputs": [
    {
     "name": "stdout",
     "output_type": "stream",
     "text": [
      "{'a_0': {'a_1': {}}}\n",
      "{\"a'_0\": {}}\n",
      "{'b_0': {'b_1': {}}}\n",
      "{\"b'_0\": {}}\n"
     ]
    }
   ],
   "source": [
    "Omega_a = FF([{\"a_0\": {\"a_1\": {}}},{\"a'_0\": {}}])\n",
    "Omega_b = FF([{\"b_0\": {\"b_1\": {}}},{\"b'_0\": {}}])\n",
    "display_trees(Omega_a)\n",
    "display_trees(Omega_b)"
   ]
  },
  {
   "cell_type": "code",
   "execution_count": 35,
   "metadata": {},
   "outputs": [
    {
     "name": "stdout",
     "output_type": "stream",
     "text": [
      "{'b_0_a_0': {'a_0_b_1': {'a_1_b_1': {}},\n",
      "             'a_1_b_1': {},\n",
      "             'b_0_a_1': {'b_1_a_1': {}}}}\n",
      "{\"b_0_a'_0\": {\"b_1_a'_0\": {}}}\n",
      "{\"a_0_b'_0\": {\"a_1_b'_0\": {}}}\n",
      "{\"a'_0_b'_0\": {}}\n"
     ]
    }
   ],
   "source": [
    "K = Omega_b * Omega_a\n",
    "display_trees(K)"
   ]
  },
  {
   "cell_type": "code",
   "execution_count": 36,
   "metadata": {},
   "outputs": [
    {
     "name": "stdout",
     "output_type": "stream",
     "text": [
      "{'a_0': {'a_1': {'a_2': {}}}}\n",
      "{'b_0': {'b_1': {}}}\n"
     ]
    }
   ],
   "source": [
    "Three_a = FF([{\"a_0\": {\"a_1\": {\"a_2\": {}}}}])\n",
    "Two_b = FF([{\"b_0\": {\"b_1\": {}}}])\n",
    "display_trees(Three_a)\n",
    "display_trees(Two_b)"
   ]
  },
  {
   "cell_type": "code",
   "execution_count": 40,
   "metadata": {},
   "outputs": [
    {
     "name": "stdout",
     "output_type": "stream",
     "text": [
      "{'a_0_b_0': {'a_0_b_1': {'a_1_b_1': {'a_2_b_1': {}}},\n",
      "             'a_1_b_0': {'a_1_b_1': {'a_2_b_1': {}},\n",
      "                         'b_0_a_2': {'b_1_a_2': {}},\n",
      "                         'b_1_a_2': {}},\n",
      "             'a_1_b_1': {'a_2_b_1': {}}}}\n"
     ]
    }
   ],
   "source": [
    "ThreexTwo = Three_a * Two_b\n",
    "display_trees(ThreexTwo)"
   ]
  },
  {
   "cell_type": "code",
   "execution_count": 41,
   "metadata": {},
   "outputs": [],
   "source": [
    "def rename_nodes(FF_in):\n",
    "    # Initialize a dictionary to keep track of the number of times each node name has been encountered\n",
    "    name_count = {}\n",
    "    # Iterate over the trees in FF_in\n",
    "    for tree in FF_in.trees:\n",
    "        # Call the rename_tree_nodes helper function on each tree\n",
    "        rename_tree_nodes(tree, name_count)\n",
    "        \n",
    "def rename_tree_nodes(tree, name_count):\n",
    "    # Helper function to rename the nodes in a tree\n",
    "    for key in list(tree.keys()):\n",
    "        # Increment the count for the current node name\n",
    "        name_count[key] = name_count.get(key, 0) + 1\n",
    "        # If the count is greater than 1, rename the node by appending an identifier to its name\n",
    "        if name_count[key] > 1:\n",
    "            new_key = f\"{key}_{name_count[key]}\"\n",
    "            tree[new_key] = tree.pop(key)\n",
    "        else:\n",
    "            new_key = key\n",
    "        # Recursively call the rename_tree_nodes function on the children of the current node\n",
    "        rename_tree_nodes(tree[new_key], name_count)\n"
   ]
  },
  {
   "cell_type": "code",
   "execution_count": 42,
   "metadata": {},
   "outputs": [],
   "source": [
    "import itertools\n",
    "\n",
    "def get_all_subtrees(FF_in):\n",
    "    # Initialize an empty list of trees\n",
    "    subtree_list = []\n",
    "\n",
    "    # Iterate over the trees in FF_in\n",
    "    for tree in FF_in.trees:\n",
    "        # Get the list of all nodes in the tree\n",
    "        nodes = list(get_all_nodes(tree))\n",
    "\n",
    "        # Generate all possible subtrees\n",
    "        for i in range(1, len(nodes) + 1):\n",
    "            for chosen_nodes in itertools.combinations(nodes, i):\n",
    "                # Get the ancestors of the chosen nodes\n",
    "                ancestors = set()\n",
    "                for node in chosen_nodes:\n",
    "                    ancestors.update(get_ancestors(tree, node))\n",
    "\n",
    "                # Construct a subtree from the ancestors\n",
    "                subtree = construct_subtree(tree, ancestors)\n",
    "\n",
    "                # Add the subtree to the list if it's not already present\n",
    "                if subtree not in subtree_list:\n",
    "                    subtree_list.append(subtree)\n",
    "\n",
    "        for i, subtree in enumerate(subtree_list):\n",
    "            print(i+1, subtree)\n",
    "    return subtree_list\n",
    "\n",
    "\n",
    "def get_all_nodes(tree):\n",
    "    # Helper function to get the set of all nodes in a tree\n",
    "    nodes = set(tree.keys())\n",
    "    for child in tree.values():\n",
    "        nodes.update(get_all_nodes(child))\n",
    "    return nodes\n",
    "\n",
    "def get_ancestors(tree, node):\n",
    "    # Helper function to get the set of ancestors of a node in a tree\n",
    "    for key, value in tree.items():\n",
    "        if key == node:\n",
    "            return {key}\n",
    "        else:\n",
    "            ancestors = get_ancestors(value, node)\n",
    "            if ancestors:\n",
    "                return {key} | ancestors\n",
    "    return set()\n",
    "\n",
    "def construct_subtree(tree, nodes):\n",
    "    # Helper function to construct a subtree from a set of nodes\n",
    "    subtree = {}\n",
    "    for key, value in tree.items():\n",
    "        if key in nodes:\n",
    "            subtree[key] = construct_subtree(value, nodes)\n",
    "    return subtree\n"
   ]
  },
  {
   "cell_type": "code",
   "execution_count": 43,
   "metadata": {},
   "outputs": [],
   "source": [
    "Two_a = FF([{\"a_0\": {\"a_1\": {}}}])\n",
    "Two_b = FF([{\"b_0\": {\"b_1\": {}}}])\n",
    "One_a = FF([{\"a_0\": {}}])"
   ]
  },
  {
   "cell_type": "code",
   "execution_count": 44,
   "metadata": {
    "scrolled": true
   },
   "outputs": [
    {
     "name": "stdout",
     "output_type": "stream",
     "text": [
      "{'b_0_a_0': {'a_0_b_1': {'a_1_b_1': {}},\n",
      "             'a_1_b_1_2': {},\n",
      "             'b_0_a_1': {'b_1_a_1': {}}}}\n"
     ]
    }
   ],
   "source": [
    "TwoxTwo = Two_b * Two_a\n",
    "rename_nodes(TwoxTwo)\n",
    "display_trees(TwoxTwo)"
   ]
  },
  {
   "cell_type": "code",
   "execution_count": 45,
   "metadata": {},
   "outputs": [
    {
     "name": "stdout",
     "output_type": "stream",
     "text": [
      "1 {'b_0_a_0': {'b_0_a_1': {}}}\n",
      "2 {'b_0_a_0': {'a_0_b_1': {'a_1_b_1': {}}}}\n",
      "3 {'b_0_a_0': {}}\n",
      "4 {'b_0_a_0': {'a_0_b_1': {}}}\n",
      "5 {'b_0_a_0': {'a_1_b_1_2': {}}}\n",
      "6 {'b_0_a_0': {'b_0_a_1': {'b_1_a_1': {}}}}\n",
      "7 {'b_0_a_0': {'a_0_b_1': {'a_1_b_1': {}}, 'b_0_a_1': {}}}\n",
      "8 {'b_0_a_0': {'a_0_b_1': {}, 'b_0_a_1': {}}}\n",
      "9 {'b_0_a_0': {'b_0_a_1': {}, 'a_1_b_1_2': {}}}\n",
      "10 {'b_0_a_0': {'a_0_b_1': {'a_1_b_1': {}}, 'a_1_b_1_2': {}}}\n",
      "11 {'b_0_a_0': {'a_0_b_1': {'a_1_b_1': {}}, 'b_0_a_1': {'b_1_a_1': {}}}}\n",
      "12 {'b_0_a_0': {'a_0_b_1': {}, 'a_1_b_1_2': {}}}\n",
      "13 {'b_0_a_0': {'a_0_b_1': {}, 'b_0_a_1': {'b_1_a_1': {}}}}\n",
      "14 {'b_0_a_0': {'b_0_a_1': {'b_1_a_1': {}}, 'a_1_b_1_2': {}}}\n",
      "15 {'b_0_a_0': {'a_0_b_1': {'a_1_b_1': {}}, 'b_0_a_1': {}, 'a_1_b_1_2': {}}}\n",
      "16 {'b_0_a_0': {'a_0_b_1': {}, 'b_0_a_1': {}, 'a_1_b_1_2': {}}}\n",
      "17 {'b_0_a_0': {'a_0_b_1': {'a_1_b_1': {}}, 'b_0_a_1': {'b_1_a_1': {}}, 'a_1_b_1_2': {}}}\n",
      "18 {'b_0_a_0': {'a_0_b_1': {}, 'b_0_a_1': {'b_1_a_1': {}}, 'a_1_b_1_2': {}}}\n"
     ]
    }
   ],
   "source": [
    "L0 = get_all_subtrees(TwoxTwo)"
   ]
  },
  {
   "cell_type": "code",
   "execution_count": 46,
   "metadata": {},
   "outputs": [
    {
     "name": "stdout",
     "output_type": "stream",
     "text": [
      "{'a_0_b_0': {'a_0_b_1': {'a_1_b_1': {'a_2_b_1': {}}},\n",
      "             'a_1_b_0': {'a_1_b_1': {'a_2_b_1': {}},\n",
      "                         'b_0_a_2': {'b_1_a_2': {}},\n",
      "                         'b_1_a_2': {}},\n",
      "             'a_1_b_1': {'a_2_b_1': {}}}}\n"
     ]
    }
   ],
   "source": [
    "ThreexTwo = Three_a * Two_b\n",
    "display_trees(ThreexTwo)"
   ]
  },
  {
   "cell_type": "code",
   "execution_count": 47,
   "metadata": {},
   "outputs": [
    {
     "name": "stdout",
     "output_type": "stream",
     "text": [
      "{'a_0_b_0': {'a_0_b_1': {'a_1_b_1_3': {'a_2_b_1_3': {}}},\n",
      "             'a_1_b_0': {'a_1_b_1': {'a_2_b_1': {}},\n",
      "                         'b_0_a_2': {'b_1_a_2': {}},\n",
      "                         'b_1_a_2_2': {}},\n",
      "             'a_1_b_1_2': {'a_2_b_1_2': {}}}}\n"
     ]
    }
   ],
   "source": [
    "rename_nodes(ThreexTwo)\n",
    "display_trees(ThreexTwo)"
   ]
  },
  {
   "cell_type": "code",
   "execution_count": 48,
   "metadata": {},
   "outputs": [
    {
     "name": "stdout",
     "output_type": "stream",
     "text": [
      "1 {'a_0_b_0': {'a_1_b_0': {'b_1_a_2_2': {}}}}\n",
      "2 {'a_0_b_0': {'a_1_b_0': {'b_0_a_2': {'b_1_a_2': {}}}}}\n",
      "3 {'a_0_b_0': {}}\n",
      "4 {'a_0_b_0': {'a_0_b_1': {'a_1_b_1_3': {'a_2_b_1_3': {}}}}}\n",
      "5 {'a_0_b_0': {'a_1_b_1_2': {'a_2_b_1_2': {}}}}\n",
      "6 {'a_0_b_0': {'a_0_b_1': {}}}\n",
      "7 {'a_0_b_0': {'a_1_b_0': {'a_1_b_1': {'a_2_b_1': {}}}}}\n",
      "8 {'a_0_b_0': {'a_1_b_0': {'a_1_b_1': {}}}}\n",
      "9 {'a_0_b_0': {'a_0_b_1': {'a_1_b_1_3': {}}}}\n",
      "10 {'a_0_b_0': {'a_1_b_1_2': {}}}\n",
      "11 {'a_0_b_0': {'a_1_b_0': {'b_0_a_2': {}}}}\n",
      "12 {'a_0_b_0': {'a_1_b_0': {}}}\n",
      "13 {'a_0_b_0': {'a_1_b_0': {'b_0_a_2': {'b_1_a_2': {}}, 'b_1_a_2_2': {}}}}\n",
      "14 {'a_0_b_0': {'a_1_b_0': {'b_1_a_2_2': {}}, 'a_0_b_1': {'a_1_b_1_3': {'a_2_b_1_3': {}}}}}\n",
      "15 {'a_0_b_0': {'a_1_b_0': {'b_1_a_2_2': {}}, 'a_1_b_1_2': {'a_2_b_1_2': {}}}}\n",
      "16 {'a_0_b_0': {'a_1_b_0': {'b_1_a_2_2': {}}, 'a_0_b_1': {}}}\n",
      "17 {'a_0_b_0': {'a_1_b_0': {'a_1_b_1': {'a_2_b_1': {}}, 'b_1_a_2_2': {}}}}\n",
      "18 {'a_0_b_0': {'a_1_b_0': {'a_1_b_1': {}, 'b_1_a_2_2': {}}}}\n",
      "19 {'a_0_b_0': {'a_1_b_0': {'b_1_a_2_2': {}}, 'a_0_b_1': {'a_1_b_1_3': {}}}}\n",
      "20 {'a_0_b_0': {'a_1_b_0': {'b_1_a_2_2': {}}, 'a_1_b_1_2': {}}}\n",
      "21 {'a_0_b_0': {'a_1_b_0': {'b_0_a_2': {}, 'b_1_a_2_2': {}}}}\n",
      "22 {'a_0_b_0': {'a_1_b_0': {'b_0_a_2': {'b_1_a_2': {}}}, 'a_0_b_1': {'a_1_b_1_3': {'a_2_b_1_3': {}}}}}\n",
      "23 {'a_0_b_0': {'a_1_b_0': {'b_0_a_2': {'b_1_a_2': {}}}, 'a_1_b_1_2': {'a_2_b_1_2': {}}}}\n",
      "24 {'a_0_b_0': {'a_1_b_0': {'b_0_a_2': {'b_1_a_2': {}}}, 'a_0_b_1': {}}}\n",
      "25 {'a_0_b_0': {'a_1_b_0': {'b_0_a_2': {'b_1_a_2': {}}, 'a_1_b_1': {'a_2_b_1': {}}}}}\n",
      "26 {'a_0_b_0': {'a_1_b_0': {'b_0_a_2': {'b_1_a_2': {}}, 'a_1_b_1': {}}}}\n",
      "27 {'a_0_b_0': {'a_1_b_0': {'b_0_a_2': {'b_1_a_2': {}}}, 'a_0_b_1': {'a_1_b_1_3': {}}}}\n",
      "28 {'a_0_b_0': {'a_1_b_0': {'b_0_a_2': {'b_1_a_2': {}}}, 'a_1_b_1_2': {}}}\n",
      "29 {'a_0_b_0': {'a_0_b_1': {'a_1_b_1_3': {'a_2_b_1_3': {}}}, 'a_1_b_1_2': {'a_2_b_1_2': {}}}}\n",
      "30 {'a_0_b_0': {'a_1_b_0': {'a_1_b_1': {'a_2_b_1': {}}}, 'a_0_b_1': {'a_1_b_1_3': {'a_2_b_1_3': {}}}}}\n",
      "31 {'a_0_b_0': {'a_1_b_0': {'a_1_b_1': {}}, 'a_0_b_1': {'a_1_b_1_3': {'a_2_b_1_3': {}}}}}\n",
      "32 {'a_0_b_0': {'a_0_b_1': {'a_1_b_1_3': {'a_2_b_1_3': {}}}, 'a_1_b_1_2': {}}}\n",
      "33 {'a_0_b_0': {'a_1_b_0': {'b_0_a_2': {}}, 'a_0_b_1': {'a_1_b_1_3': {'a_2_b_1_3': {}}}}}\n",
      "34 {'a_0_b_0': {'a_1_b_0': {}, 'a_0_b_1': {'a_1_b_1_3': {'a_2_b_1_3': {}}}}}\n",
      "35 {'a_0_b_0': {'a_0_b_1': {}, 'a_1_b_1_2': {'a_2_b_1_2': {}}}}\n",
      "36 {'a_0_b_0': {'a_1_b_0': {'a_1_b_1': {'a_2_b_1': {}}}, 'a_1_b_1_2': {'a_2_b_1_2': {}}}}\n",
      "37 {'a_0_b_0': {'a_1_b_0': {'a_1_b_1': {}}, 'a_1_b_1_2': {'a_2_b_1_2': {}}}}\n",
      "38 {'a_0_b_0': {'a_0_b_1': {'a_1_b_1_3': {}}, 'a_1_b_1_2': {'a_2_b_1_2': {}}}}\n",
      "39 {'a_0_b_0': {'a_1_b_0': {'b_0_a_2': {}}, 'a_1_b_1_2': {'a_2_b_1_2': {}}}}\n",
      "40 {'a_0_b_0': {'a_1_b_0': {}, 'a_1_b_1_2': {'a_2_b_1_2': {}}}}\n",
      "41 {'a_0_b_0': {'a_1_b_0': {'a_1_b_1': {'a_2_b_1': {}}}, 'a_0_b_1': {}}}\n",
      "42 {'a_0_b_0': {'a_1_b_0': {'a_1_b_1': {}}, 'a_0_b_1': {}}}\n",
      "43 {'a_0_b_0': {'a_0_b_1': {}, 'a_1_b_1_2': {}}}\n",
      "44 {'a_0_b_0': {'a_1_b_0': {'b_0_a_2': {}}, 'a_0_b_1': {}}}\n",
      "45 {'a_0_b_0': {'a_1_b_0': {}, 'a_0_b_1': {}}}\n",
      "46 {'a_0_b_0': {'a_1_b_0': {'a_1_b_1': {'a_2_b_1': {}}}, 'a_0_b_1': {'a_1_b_1_3': {}}}}\n",
      "47 {'a_0_b_0': {'a_1_b_0': {'a_1_b_1': {'a_2_b_1': {}}}, 'a_1_b_1_2': {}}}\n",
      "48 {'a_0_b_0': {'a_1_b_0': {'b_0_a_2': {}, 'a_1_b_1': {'a_2_b_1': {}}}}}\n",
      "49 {'a_0_b_0': {'a_1_b_0': {'a_1_b_1': {}}, 'a_0_b_1': {'a_1_b_1_3': {}}}}\n",
      "50 {'a_0_b_0': {'a_1_b_0': {'a_1_b_1': {}}, 'a_1_b_1_2': {}}}\n",
      "51 {'a_0_b_0': {'a_1_b_0': {'b_0_a_2': {}, 'a_1_b_1': {}}}}\n",
      "52 {'a_0_b_0': {'a_0_b_1': {'a_1_b_1_3': {}}, 'a_1_b_1_2': {}}}\n",
      "53 {'a_0_b_0': {'a_1_b_0': {'b_0_a_2': {}}, 'a_0_b_1': {'a_1_b_1_3': {}}}}\n",
      "54 {'a_0_b_0': {'a_1_b_0': {}, 'a_0_b_1': {'a_1_b_1_3': {}}}}\n",
      "55 {'a_0_b_0': {'a_1_b_0': {'b_0_a_2': {}}, 'a_1_b_1_2': {}}}\n",
      "56 {'a_0_b_0': {'a_1_b_0': {}, 'a_1_b_1_2': {}}}\n",
      "57 {'a_0_b_0': {'a_1_b_0': {'b_0_a_2': {'b_1_a_2': {}}, 'b_1_a_2_2': {}}, 'a_0_b_1': {'a_1_b_1_3': {'a_2_b_1_3': {}}}}}\n",
      "58 {'a_0_b_0': {'a_1_b_0': {'b_0_a_2': {'b_1_a_2': {}}, 'b_1_a_2_2': {}}, 'a_1_b_1_2': {'a_2_b_1_2': {}}}}\n",
      "59 {'a_0_b_0': {'a_1_b_0': {'b_0_a_2': {'b_1_a_2': {}}, 'b_1_a_2_2': {}}, 'a_0_b_1': {}}}\n",
      "60 {'a_0_b_0': {'a_1_b_0': {'b_0_a_2': {'b_1_a_2': {}}, 'a_1_b_1': {'a_2_b_1': {}}, 'b_1_a_2_2': {}}}}\n",
      "61 {'a_0_b_0': {'a_1_b_0': {'b_0_a_2': {'b_1_a_2': {}}, 'a_1_b_1': {}, 'b_1_a_2_2': {}}}}\n",
      "62 {'a_0_b_0': {'a_1_b_0': {'b_0_a_2': {'b_1_a_2': {}}, 'b_1_a_2_2': {}}, 'a_0_b_1': {'a_1_b_1_3': {}}}}\n",
      "63 {'a_0_b_0': {'a_1_b_0': {'b_0_a_2': {'b_1_a_2': {}}, 'b_1_a_2_2': {}}, 'a_1_b_1_2': {}}}\n",
      "64 {'a_0_b_0': {'a_1_b_0': {'b_1_a_2_2': {}}, 'a_0_b_1': {'a_1_b_1_3': {'a_2_b_1_3': {}}}, 'a_1_b_1_2': {'a_2_b_1_2': {}}}}\n",
      "65 {'a_0_b_0': {'a_1_b_0': {'a_1_b_1': {'a_2_b_1': {}}, 'b_1_a_2_2': {}}, 'a_0_b_1': {'a_1_b_1_3': {'a_2_b_1_3': {}}}}}\n",
      "66 {'a_0_b_0': {'a_1_b_0': {'a_1_b_1': {}, 'b_1_a_2_2': {}}, 'a_0_b_1': {'a_1_b_1_3': {'a_2_b_1_3': {}}}}}\n",
      "67 {'a_0_b_0': {'a_1_b_0': {'b_1_a_2_2': {}}, 'a_0_b_1': {'a_1_b_1_3': {'a_2_b_1_3': {}}}, 'a_1_b_1_2': {}}}\n",
      "68 {'a_0_b_0': {'a_1_b_0': {'b_0_a_2': {}, 'b_1_a_2_2': {}}, 'a_0_b_1': {'a_1_b_1_3': {'a_2_b_1_3': {}}}}}\n",
      "69 {'a_0_b_0': {'a_1_b_0': {'b_1_a_2_2': {}}, 'a_0_b_1': {}, 'a_1_b_1_2': {'a_2_b_1_2': {}}}}\n",
      "70 {'a_0_b_0': {'a_1_b_0': {'a_1_b_1': {'a_2_b_1': {}}, 'b_1_a_2_2': {}}, 'a_1_b_1_2': {'a_2_b_1_2': {}}}}\n",
      "71 {'a_0_b_0': {'a_1_b_0': {'a_1_b_1': {}, 'b_1_a_2_2': {}}, 'a_1_b_1_2': {'a_2_b_1_2': {}}}}\n",
      "72 {'a_0_b_0': {'a_1_b_0': {'b_1_a_2_2': {}}, 'a_0_b_1': {'a_1_b_1_3': {}}, 'a_1_b_1_2': {'a_2_b_1_2': {}}}}\n",
      "73 {'a_0_b_0': {'a_1_b_0': {'b_0_a_2': {}, 'b_1_a_2_2': {}}, 'a_1_b_1_2': {'a_2_b_1_2': {}}}}\n",
      "74 {'a_0_b_0': {'a_1_b_0': {'a_1_b_1': {'a_2_b_1': {}}, 'b_1_a_2_2': {}}, 'a_0_b_1': {}}}\n",
      "75 {'a_0_b_0': {'a_1_b_0': {'a_1_b_1': {}, 'b_1_a_2_2': {}}, 'a_0_b_1': {}}}\n",
      "76 {'a_0_b_0': {'a_1_b_0': {'b_1_a_2_2': {}}, 'a_0_b_1': {}, 'a_1_b_1_2': {}}}\n",
      "77 {'a_0_b_0': {'a_1_b_0': {'b_0_a_2': {}, 'b_1_a_2_2': {}}, 'a_0_b_1': {}}}\n",
      "78 {'a_0_b_0': {'a_1_b_0': {'a_1_b_1': {'a_2_b_1': {}}, 'b_1_a_2_2': {}}, 'a_0_b_1': {'a_1_b_1_3': {}}}}\n",
      "79 {'a_0_b_0': {'a_1_b_0': {'a_1_b_1': {'a_2_b_1': {}}, 'b_1_a_2_2': {}}, 'a_1_b_1_2': {}}}\n",
      "80 {'a_0_b_0': {'a_1_b_0': {'b_0_a_2': {}, 'a_1_b_1': {'a_2_b_1': {}}, 'b_1_a_2_2': {}}}}\n",
      "81 {'a_0_b_0': {'a_1_b_0': {'a_1_b_1': {}, 'b_1_a_2_2': {}}, 'a_0_b_1': {'a_1_b_1_3': {}}}}\n",
      "82 {'a_0_b_0': {'a_1_b_0': {'a_1_b_1': {}, 'b_1_a_2_2': {}}, 'a_1_b_1_2': {}}}\n",
      "83 {'a_0_b_0': {'a_1_b_0': {'b_0_a_2': {}, 'a_1_b_1': {}, 'b_1_a_2_2': {}}}}\n",
      "84 {'a_0_b_0': {'a_1_b_0': {'b_1_a_2_2': {}}, 'a_0_b_1': {'a_1_b_1_3': {}}, 'a_1_b_1_2': {}}}\n",
      "85 {'a_0_b_0': {'a_1_b_0': {'b_0_a_2': {}, 'b_1_a_2_2': {}}, 'a_0_b_1': {'a_1_b_1_3': {}}}}\n",
      "86 {'a_0_b_0': {'a_1_b_0': {'b_0_a_2': {}, 'b_1_a_2_2': {}}, 'a_1_b_1_2': {}}}\n",
      "87 {'a_0_b_0': {'a_1_b_0': {'b_0_a_2': {'b_1_a_2': {}}}, 'a_0_b_1': {'a_1_b_1_3': {'a_2_b_1_3': {}}}, 'a_1_b_1_2': {'a_2_b_1_2': {}}}}\n",
      "88 {'a_0_b_0': {'a_1_b_0': {'b_0_a_2': {'b_1_a_2': {}}, 'a_1_b_1': {'a_2_b_1': {}}}, 'a_0_b_1': {'a_1_b_1_3': {'a_2_b_1_3': {}}}}}\n",
      "89 {'a_0_b_0': {'a_1_b_0': {'b_0_a_2': {'b_1_a_2': {}}, 'a_1_b_1': {}}, 'a_0_b_1': {'a_1_b_1_3': {'a_2_b_1_3': {}}}}}\n",
      "90 {'a_0_b_0': {'a_1_b_0': {'b_0_a_2': {'b_1_a_2': {}}}, 'a_0_b_1': {'a_1_b_1_3': {'a_2_b_1_3': {}}}, 'a_1_b_1_2': {}}}\n",
      "91 {'a_0_b_0': {'a_1_b_0': {'b_0_a_2': {'b_1_a_2': {}}}, 'a_0_b_1': {}, 'a_1_b_1_2': {'a_2_b_1_2': {}}}}\n",
      "92 {'a_0_b_0': {'a_1_b_0': {'b_0_a_2': {'b_1_a_2': {}}, 'a_1_b_1': {'a_2_b_1': {}}}, 'a_1_b_1_2': {'a_2_b_1_2': {}}}}\n",
      "93 {'a_0_b_0': {'a_1_b_0': {'b_0_a_2': {'b_1_a_2': {}}, 'a_1_b_1': {}}, 'a_1_b_1_2': {'a_2_b_1_2': {}}}}\n",
      "94 {'a_0_b_0': {'a_1_b_0': {'b_0_a_2': {'b_1_a_2': {}}}, 'a_0_b_1': {'a_1_b_1_3': {}}, 'a_1_b_1_2': {'a_2_b_1_2': {}}}}\n",
      "95 {'a_0_b_0': {'a_1_b_0': {'b_0_a_2': {'b_1_a_2': {}}, 'a_1_b_1': {'a_2_b_1': {}}}, 'a_0_b_1': {}}}\n",
      "96 {'a_0_b_0': {'a_1_b_0': {'b_0_a_2': {'b_1_a_2': {}}, 'a_1_b_1': {}}, 'a_0_b_1': {}}}\n",
      "97 {'a_0_b_0': {'a_1_b_0': {'b_0_a_2': {'b_1_a_2': {}}}, 'a_0_b_1': {}, 'a_1_b_1_2': {}}}\n",
      "98 {'a_0_b_0': {'a_1_b_0': {'b_0_a_2': {'b_1_a_2': {}}, 'a_1_b_1': {'a_2_b_1': {}}}, 'a_0_b_1': {'a_1_b_1_3': {}}}}\n",
      "99 {'a_0_b_0': {'a_1_b_0': {'b_0_a_2': {'b_1_a_2': {}}, 'a_1_b_1': {'a_2_b_1': {}}}, 'a_1_b_1_2': {}}}\n",
      "100 {'a_0_b_0': {'a_1_b_0': {'b_0_a_2': {'b_1_a_2': {}}, 'a_1_b_1': {}}, 'a_0_b_1': {'a_1_b_1_3': {}}}}\n",
      "101 {'a_0_b_0': {'a_1_b_0': {'b_0_a_2': {'b_1_a_2': {}}, 'a_1_b_1': {}}, 'a_1_b_1_2': {}}}\n",
      "102 {'a_0_b_0': {'a_1_b_0': {'b_0_a_2': {'b_1_a_2': {}}}, 'a_0_b_1': {'a_1_b_1_3': {}}, 'a_1_b_1_2': {}}}\n",
      "103 {'a_0_b_0': {'a_1_b_0': {'a_1_b_1': {'a_2_b_1': {}}}, 'a_0_b_1': {'a_1_b_1_3': {'a_2_b_1_3': {}}}, 'a_1_b_1_2': {'a_2_b_1_2': {}}}}\n",
      "104 {'a_0_b_0': {'a_1_b_0': {'a_1_b_1': {}}, 'a_0_b_1': {'a_1_b_1_3': {'a_2_b_1_3': {}}}, 'a_1_b_1_2': {'a_2_b_1_2': {}}}}\n",
      "105 {'a_0_b_0': {'a_1_b_0': {'b_0_a_2': {}}, 'a_0_b_1': {'a_1_b_1_3': {'a_2_b_1_3': {}}}, 'a_1_b_1_2': {'a_2_b_1_2': {}}}}\n",
      "106 {'a_0_b_0': {'a_1_b_0': {}, 'a_0_b_1': {'a_1_b_1_3': {'a_2_b_1_3': {}}}, 'a_1_b_1_2': {'a_2_b_1_2': {}}}}\n",
      "107 {'a_0_b_0': {'a_1_b_0': {'a_1_b_1': {'a_2_b_1': {}}}, 'a_0_b_1': {'a_1_b_1_3': {'a_2_b_1_3': {}}}, 'a_1_b_1_2': {}}}\n",
      "108 {'a_0_b_0': {'a_1_b_0': {'b_0_a_2': {}, 'a_1_b_1': {'a_2_b_1': {}}}, 'a_0_b_1': {'a_1_b_1_3': {'a_2_b_1_3': {}}}}}\n",
      "109 {'a_0_b_0': {'a_1_b_0': {'a_1_b_1': {}}, 'a_0_b_1': {'a_1_b_1_3': {'a_2_b_1_3': {}}}, 'a_1_b_1_2': {}}}\n",
      "110 {'a_0_b_0': {'a_1_b_0': {'b_0_a_2': {}, 'a_1_b_1': {}}, 'a_0_b_1': {'a_1_b_1_3': {'a_2_b_1_3': {}}}}}\n",
      "111 {'a_0_b_0': {'a_1_b_0': {'b_0_a_2': {}}, 'a_0_b_1': {'a_1_b_1_3': {'a_2_b_1_3': {}}}, 'a_1_b_1_2': {}}}\n",
      "112 {'a_0_b_0': {'a_1_b_0': {}, 'a_0_b_1': {'a_1_b_1_3': {'a_2_b_1_3': {}}}, 'a_1_b_1_2': {}}}\n",
      "113 {'a_0_b_0': {'a_1_b_0': {'a_1_b_1': {'a_2_b_1': {}}}, 'a_0_b_1': {}, 'a_1_b_1_2': {'a_2_b_1_2': {}}}}\n",
      "114 {'a_0_b_0': {'a_1_b_0': {'a_1_b_1': {}}, 'a_0_b_1': {}, 'a_1_b_1_2': {'a_2_b_1_2': {}}}}\n",
      "115 {'a_0_b_0': {'a_1_b_0': {'b_0_a_2': {}}, 'a_0_b_1': {}, 'a_1_b_1_2': {'a_2_b_1_2': {}}}}\n",
      "116 {'a_0_b_0': {'a_1_b_0': {}, 'a_0_b_1': {}, 'a_1_b_1_2': {'a_2_b_1_2': {}}}}\n",
      "117 {'a_0_b_0': {'a_1_b_0': {'a_1_b_1': {'a_2_b_1': {}}}, 'a_0_b_1': {'a_1_b_1_3': {}}, 'a_1_b_1_2': {'a_2_b_1_2': {}}}}\n",
      "118 {'a_0_b_0': {'a_1_b_0': {'b_0_a_2': {}, 'a_1_b_1': {'a_2_b_1': {}}}, 'a_1_b_1_2': {'a_2_b_1_2': {}}}}\n",
      "119 {'a_0_b_0': {'a_1_b_0': {'a_1_b_1': {}}, 'a_0_b_1': {'a_1_b_1_3': {}}, 'a_1_b_1_2': {'a_2_b_1_2': {}}}}\n",
      "120 {'a_0_b_0': {'a_1_b_0': {'b_0_a_2': {}, 'a_1_b_1': {}}, 'a_1_b_1_2': {'a_2_b_1_2': {}}}}\n",
      "121 {'a_0_b_0': {'a_1_b_0': {'b_0_a_2': {}}, 'a_0_b_1': {'a_1_b_1_3': {}}, 'a_1_b_1_2': {'a_2_b_1_2': {}}}}\n",
      "122 {'a_0_b_0': {'a_1_b_0': {}, 'a_0_b_1': {'a_1_b_1_3': {}}, 'a_1_b_1_2': {'a_2_b_1_2': {}}}}\n",
      "123 {'a_0_b_0': {'a_1_b_0': {'a_1_b_1': {'a_2_b_1': {}}}, 'a_0_b_1': {}, 'a_1_b_1_2': {}}}\n",
      "124 {'a_0_b_0': {'a_1_b_0': {'b_0_a_2': {}, 'a_1_b_1': {'a_2_b_1': {}}}, 'a_0_b_1': {}}}\n",
      "125 {'a_0_b_0': {'a_1_b_0': {'a_1_b_1': {}}, 'a_0_b_1': {}, 'a_1_b_1_2': {}}}\n",
      "126 {'a_0_b_0': {'a_1_b_0': {'b_0_a_2': {}, 'a_1_b_1': {}}, 'a_0_b_1': {}}}\n",
      "127 {'a_0_b_0': {'a_1_b_0': {'b_0_a_2': {}}, 'a_0_b_1': {}, 'a_1_b_1_2': {}}}\n",
      "128 {'a_0_b_0': {'a_1_b_0': {}, 'a_0_b_1': {}, 'a_1_b_1_2': {}}}\n",
      "129 {'a_0_b_0': {'a_1_b_0': {'a_1_b_1': {'a_2_b_1': {}}}, 'a_0_b_1': {'a_1_b_1_3': {}}, 'a_1_b_1_2': {}}}\n",
      "130 {'a_0_b_0': {'a_1_b_0': {'b_0_a_2': {}, 'a_1_b_1': {'a_2_b_1': {}}}, 'a_0_b_1': {'a_1_b_1_3': {}}}}\n",
      "131 {'a_0_b_0': {'a_1_b_0': {'b_0_a_2': {}, 'a_1_b_1': {'a_2_b_1': {}}}, 'a_1_b_1_2': {}}}\n",
      "132 {'a_0_b_0': {'a_1_b_0': {'a_1_b_1': {}}, 'a_0_b_1': {'a_1_b_1_3': {}}, 'a_1_b_1_2': {}}}\n",
      "133 {'a_0_b_0': {'a_1_b_0': {'b_0_a_2': {}, 'a_1_b_1': {}}, 'a_0_b_1': {'a_1_b_1_3': {}}}}\n",
      "134 {'a_0_b_0': {'a_1_b_0': {'b_0_a_2': {}, 'a_1_b_1': {}}, 'a_1_b_1_2': {}}}\n",
      "135 {'a_0_b_0': {'a_1_b_0': {'b_0_a_2': {}}, 'a_0_b_1': {'a_1_b_1_3': {}}, 'a_1_b_1_2': {}}}\n",
      "136 {'a_0_b_0': {'a_1_b_0': {}, 'a_0_b_1': {'a_1_b_1_3': {}}, 'a_1_b_1_2': {}}}\n",
      "137 {'a_0_b_0': {'a_1_b_0': {'b_0_a_2': {'b_1_a_2': {}}, 'b_1_a_2_2': {}}, 'a_0_b_1': {'a_1_b_1_3': {'a_2_b_1_3': {}}}, 'a_1_b_1_2': {'a_2_b_1_2': {}}}}\n",
      "138 {'a_0_b_0': {'a_1_b_0': {'b_0_a_2': {'b_1_a_2': {}}, 'a_1_b_1': {'a_2_b_1': {}}, 'b_1_a_2_2': {}}, 'a_0_b_1': {'a_1_b_1_3': {'a_2_b_1_3': {}}}}}\n",
      "139 {'a_0_b_0': {'a_1_b_0': {'b_0_a_2': {'b_1_a_2': {}}, 'a_1_b_1': {}, 'b_1_a_2_2': {}}, 'a_0_b_1': {'a_1_b_1_3': {'a_2_b_1_3': {}}}}}\n",
      "140 {'a_0_b_0': {'a_1_b_0': {'b_0_a_2': {'b_1_a_2': {}}, 'b_1_a_2_2': {}}, 'a_0_b_1': {'a_1_b_1_3': {'a_2_b_1_3': {}}}, 'a_1_b_1_2': {}}}\n",
      "141 {'a_0_b_0': {'a_1_b_0': {'b_0_a_2': {'b_1_a_2': {}}, 'b_1_a_2_2': {}}, 'a_0_b_1': {}, 'a_1_b_1_2': {'a_2_b_1_2': {}}}}\n",
      "142 {'a_0_b_0': {'a_1_b_0': {'b_0_a_2': {'b_1_a_2': {}}, 'a_1_b_1': {'a_2_b_1': {}}, 'b_1_a_2_2': {}}, 'a_1_b_1_2': {'a_2_b_1_2': {}}}}\n",
      "143 {'a_0_b_0': {'a_1_b_0': {'b_0_a_2': {'b_1_a_2': {}}, 'a_1_b_1': {}, 'b_1_a_2_2': {}}, 'a_1_b_1_2': {'a_2_b_1_2': {}}}}\n",
      "144 {'a_0_b_0': {'a_1_b_0': {'b_0_a_2': {'b_1_a_2': {}}, 'b_1_a_2_2': {}}, 'a_0_b_1': {'a_1_b_1_3': {}}, 'a_1_b_1_2': {'a_2_b_1_2': {}}}}\n",
      "145 {'a_0_b_0': {'a_1_b_0': {'b_0_a_2': {'b_1_a_2': {}}, 'a_1_b_1': {'a_2_b_1': {}}, 'b_1_a_2_2': {}}, 'a_0_b_1': {}}}\n",
      "146 {'a_0_b_0': {'a_1_b_0': {'b_0_a_2': {'b_1_a_2': {}}, 'a_1_b_1': {}, 'b_1_a_2_2': {}}, 'a_0_b_1': {}}}\n",
      "147 {'a_0_b_0': {'a_1_b_0': {'b_0_a_2': {'b_1_a_2': {}}, 'b_1_a_2_2': {}}, 'a_0_b_1': {}, 'a_1_b_1_2': {}}}\n",
      "148 {'a_0_b_0': {'a_1_b_0': {'b_0_a_2': {'b_1_a_2': {}}, 'a_1_b_1': {'a_2_b_1': {}}, 'b_1_a_2_2': {}}, 'a_0_b_1': {'a_1_b_1_3': {}}}}\n",
      "149 {'a_0_b_0': {'a_1_b_0': {'b_0_a_2': {'b_1_a_2': {}}, 'a_1_b_1': {'a_2_b_1': {}}, 'b_1_a_2_2': {}}, 'a_1_b_1_2': {}}}\n",
      "150 {'a_0_b_0': {'a_1_b_0': {'b_0_a_2': {'b_1_a_2': {}}, 'a_1_b_1': {}, 'b_1_a_2_2': {}}, 'a_0_b_1': {'a_1_b_1_3': {}}}}\n",
      "151 {'a_0_b_0': {'a_1_b_0': {'b_0_a_2': {'b_1_a_2': {}}, 'a_1_b_1': {}, 'b_1_a_2_2': {}}, 'a_1_b_1_2': {}}}\n",
      "152 {'a_0_b_0': {'a_1_b_0': {'b_0_a_2': {'b_1_a_2': {}}, 'b_1_a_2_2': {}}, 'a_0_b_1': {'a_1_b_1_3': {}}, 'a_1_b_1_2': {}}}\n",
      "153 {'a_0_b_0': {'a_1_b_0': {'a_1_b_1': {'a_2_b_1': {}}, 'b_1_a_2_2': {}}, 'a_0_b_1': {'a_1_b_1_3': {'a_2_b_1_3': {}}}, 'a_1_b_1_2': {'a_2_b_1_2': {}}}}\n",
      "154 {'a_0_b_0': {'a_1_b_0': {'a_1_b_1': {}, 'b_1_a_2_2': {}}, 'a_0_b_1': {'a_1_b_1_3': {'a_2_b_1_3': {}}}, 'a_1_b_1_2': {'a_2_b_1_2': {}}}}\n",
      "155 {'a_0_b_0': {'a_1_b_0': {'b_0_a_2': {}, 'b_1_a_2_2': {}}, 'a_0_b_1': {'a_1_b_1_3': {'a_2_b_1_3': {}}}, 'a_1_b_1_2': {'a_2_b_1_2': {}}}}\n",
      "156 {'a_0_b_0': {'a_1_b_0': {'a_1_b_1': {'a_2_b_1': {}}, 'b_1_a_2_2': {}}, 'a_0_b_1': {'a_1_b_1_3': {'a_2_b_1_3': {}}}, 'a_1_b_1_2': {}}}\n",
      "157 {'a_0_b_0': {'a_1_b_0': {'b_0_a_2': {}, 'a_1_b_1': {'a_2_b_1': {}}, 'b_1_a_2_2': {}}, 'a_0_b_1': {'a_1_b_1_3': {'a_2_b_1_3': {}}}}}\n",
      "158 {'a_0_b_0': {'a_1_b_0': {'a_1_b_1': {}, 'b_1_a_2_2': {}}, 'a_0_b_1': {'a_1_b_1_3': {'a_2_b_1_3': {}}}, 'a_1_b_1_2': {}}}\n",
      "159 {'a_0_b_0': {'a_1_b_0': {'b_0_a_2': {}, 'a_1_b_1': {}, 'b_1_a_2_2': {}}, 'a_0_b_1': {'a_1_b_1_3': {'a_2_b_1_3': {}}}}}\n",
      "160 {'a_0_b_0': {'a_1_b_0': {'b_0_a_2': {}, 'b_1_a_2_2': {}}, 'a_0_b_1': {'a_1_b_1_3': {'a_2_b_1_3': {}}}, 'a_1_b_1_2': {}}}\n",
      "161 {'a_0_b_0': {'a_1_b_0': {'a_1_b_1': {'a_2_b_1': {}}, 'b_1_a_2_2': {}}, 'a_0_b_1': {}, 'a_1_b_1_2': {'a_2_b_1_2': {}}}}\n",
      "162 {'a_0_b_0': {'a_1_b_0': {'a_1_b_1': {}, 'b_1_a_2_2': {}}, 'a_0_b_1': {}, 'a_1_b_1_2': {'a_2_b_1_2': {}}}}\n",
      "163 {'a_0_b_0': {'a_1_b_0': {'b_0_a_2': {}, 'b_1_a_2_2': {}}, 'a_0_b_1': {}, 'a_1_b_1_2': {'a_2_b_1_2': {}}}}\n",
      "164 {'a_0_b_0': {'a_1_b_0': {'a_1_b_1': {'a_2_b_1': {}}, 'b_1_a_2_2': {}}, 'a_0_b_1': {'a_1_b_1_3': {}}, 'a_1_b_1_2': {'a_2_b_1_2': {}}}}\n",
      "165 {'a_0_b_0': {'a_1_b_0': {'b_0_a_2': {}, 'a_1_b_1': {'a_2_b_1': {}}, 'b_1_a_2_2': {}}, 'a_1_b_1_2': {'a_2_b_1_2': {}}}}\n",
      "166 {'a_0_b_0': {'a_1_b_0': {'a_1_b_1': {}, 'b_1_a_2_2': {}}, 'a_0_b_1': {'a_1_b_1_3': {}}, 'a_1_b_1_2': {'a_2_b_1_2': {}}}}\n",
      "167 {'a_0_b_0': {'a_1_b_0': {'b_0_a_2': {}, 'a_1_b_1': {}, 'b_1_a_2_2': {}}, 'a_1_b_1_2': {'a_2_b_1_2': {}}}}\n",
      "168 {'a_0_b_0': {'a_1_b_0': {'b_0_a_2': {}, 'b_1_a_2_2': {}}, 'a_0_b_1': {'a_1_b_1_3': {}}, 'a_1_b_1_2': {'a_2_b_1_2': {}}}}\n",
      "169 {'a_0_b_0': {'a_1_b_0': {'a_1_b_1': {'a_2_b_1': {}}, 'b_1_a_2_2': {}}, 'a_0_b_1': {}, 'a_1_b_1_2': {}}}\n",
      "170 {'a_0_b_0': {'a_1_b_0': {'b_0_a_2': {}, 'a_1_b_1': {'a_2_b_1': {}}, 'b_1_a_2_2': {}}, 'a_0_b_1': {}}}\n",
      "171 {'a_0_b_0': {'a_1_b_0': {'a_1_b_1': {}, 'b_1_a_2_2': {}}, 'a_0_b_1': {}, 'a_1_b_1_2': {}}}\n",
      "172 {'a_0_b_0': {'a_1_b_0': {'b_0_a_2': {}, 'a_1_b_1': {}, 'b_1_a_2_2': {}}, 'a_0_b_1': {}}}\n",
      "173 {'a_0_b_0': {'a_1_b_0': {'b_0_a_2': {}, 'b_1_a_2_2': {}}, 'a_0_b_1': {}, 'a_1_b_1_2': {}}}\n",
      "174 {'a_0_b_0': {'a_1_b_0': {'a_1_b_1': {'a_2_b_1': {}}, 'b_1_a_2_2': {}}, 'a_0_b_1': {'a_1_b_1_3': {}}, 'a_1_b_1_2': {}}}\n",
      "175 {'a_0_b_0': {'a_1_b_0': {'b_0_a_2': {}, 'a_1_b_1': {'a_2_b_1': {}}, 'b_1_a_2_2': {}}, 'a_0_b_1': {'a_1_b_1_3': {}}}}\n",
      "176 {'a_0_b_0': {'a_1_b_0': {'b_0_a_2': {}, 'a_1_b_1': {'a_2_b_1': {}}, 'b_1_a_2_2': {}}, 'a_1_b_1_2': {}}}\n",
      "177 {'a_0_b_0': {'a_1_b_0': {'a_1_b_1': {}, 'b_1_a_2_2': {}}, 'a_0_b_1': {'a_1_b_1_3': {}}, 'a_1_b_1_2': {}}}\n",
      "178 {'a_0_b_0': {'a_1_b_0': {'b_0_a_2': {}, 'a_1_b_1': {}, 'b_1_a_2_2': {}}, 'a_0_b_1': {'a_1_b_1_3': {}}}}\n",
      "179 {'a_0_b_0': {'a_1_b_0': {'b_0_a_2': {}, 'a_1_b_1': {}, 'b_1_a_2_2': {}}, 'a_1_b_1_2': {}}}\n",
      "180 {'a_0_b_0': {'a_1_b_0': {'b_0_a_2': {}, 'b_1_a_2_2': {}}, 'a_0_b_1': {'a_1_b_1_3': {}}, 'a_1_b_1_2': {}}}\n",
      "181 {'a_0_b_0': {'a_1_b_0': {'b_0_a_2': {'b_1_a_2': {}}, 'a_1_b_1': {'a_2_b_1': {}}}, 'a_0_b_1': {'a_1_b_1_3': {'a_2_b_1_3': {}}}, 'a_1_b_1_2': {'a_2_b_1_2': {}}}}\n",
      "182 {'a_0_b_0': {'a_1_b_0': {'b_0_a_2': {'b_1_a_2': {}}, 'a_1_b_1': {}}, 'a_0_b_1': {'a_1_b_1_3': {'a_2_b_1_3': {}}}, 'a_1_b_1_2': {'a_2_b_1_2': {}}}}\n",
      "183 {'a_0_b_0': {'a_1_b_0': {'b_0_a_2': {'b_1_a_2': {}}, 'a_1_b_1': {'a_2_b_1': {}}}, 'a_0_b_1': {'a_1_b_1_3': {'a_2_b_1_3': {}}}, 'a_1_b_1_2': {}}}\n",
      "184 {'a_0_b_0': {'a_1_b_0': {'b_0_a_2': {'b_1_a_2': {}}, 'a_1_b_1': {}}, 'a_0_b_1': {'a_1_b_1_3': {'a_2_b_1_3': {}}}, 'a_1_b_1_2': {}}}\n",
      "185 {'a_0_b_0': {'a_1_b_0': {'b_0_a_2': {'b_1_a_2': {}}, 'a_1_b_1': {'a_2_b_1': {}}}, 'a_0_b_1': {}, 'a_1_b_1_2': {'a_2_b_1_2': {}}}}\n",
      "186 {'a_0_b_0': {'a_1_b_0': {'b_0_a_2': {'b_1_a_2': {}}, 'a_1_b_1': {}}, 'a_0_b_1': {}, 'a_1_b_1_2': {'a_2_b_1_2': {}}}}\n",
      "187 {'a_0_b_0': {'a_1_b_0': {'b_0_a_2': {'b_1_a_2': {}}, 'a_1_b_1': {'a_2_b_1': {}}}, 'a_0_b_1': {'a_1_b_1_3': {}}, 'a_1_b_1_2': {'a_2_b_1_2': {}}}}\n",
      "188 {'a_0_b_0': {'a_1_b_0': {'b_0_a_2': {'b_1_a_2': {}}, 'a_1_b_1': {}}, 'a_0_b_1': {'a_1_b_1_3': {}}, 'a_1_b_1_2': {'a_2_b_1_2': {}}}}\n",
      "189 {'a_0_b_0': {'a_1_b_0': {'b_0_a_2': {'b_1_a_2': {}}, 'a_1_b_1': {'a_2_b_1': {}}}, 'a_0_b_1': {}, 'a_1_b_1_2': {}}}\n",
      "190 {'a_0_b_0': {'a_1_b_0': {'b_0_a_2': {'b_1_a_2': {}}, 'a_1_b_1': {}}, 'a_0_b_1': {}, 'a_1_b_1_2': {}}}\n",
      "191 {'a_0_b_0': {'a_1_b_0': {'b_0_a_2': {'b_1_a_2': {}}, 'a_1_b_1': {'a_2_b_1': {}}}, 'a_0_b_1': {'a_1_b_1_3': {}}, 'a_1_b_1_2': {}}}\n",
      "192 {'a_0_b_0': {'a_1_b_0': {'b_0_a_2': {'b_1_a_2': {}}, 'a_1_b_1': {}}, 'a_0_b_1': {'a_1_b_1_3': {}}, 'a_1_b_1_2': {}}}\n",
      "193 {'a_0_b_0': {'a_1_b_0': {'b_0_a_2': {}, 'a_1_b_1': {'a_2_b_1': {}}}, 'a_0_b_1': {'a_1_b_1_3': {'a_2_b_1_3': {}}}, 'a_1_b_1_2': {'a_2_b_1_2': {}}}}\n",
      "194 {'a_0_b_0': {'a_1_b_0': {'b_0_a_2': {}, 'a_1_b_1': {}}, 'a_0_b_1': {'a_1_b_1_3': {'a_2_b_1_3': {}}}, 'a_1_b_1_2': {'a_2_b_1_2': {}}}}\n",
      "195 {'a_0_b_0': {'a_1_b_0': {'b_0_a_2': {}, 'a_1_b_1': {'a_2_b_1': {}}}, 'a_0_b_1': {'a_1_b_1_3': {'a_2_b_1_3': {}}}, 'a_1_b_1_2': {}}}\n",
      "196 {'a_0_b_0': {'a_1_b_0': {'b_0_a_2': {}, 'a_1_b_1': {}}, 'a_0_b_1': {'a_1_b_1_3': {'a_2_b_1_3': {}}}, 'a_1_b_1_2': {}}}\n",
      "197 {'a_0_b_0': {'a_1_b_0': {'b_0_a_2': {}, 'a_1_b_1': {'a_2_b_1': {}}}, 'a_0_b_1': {}, 'a_1_b_1_2': {'a_2_b_1_2': {}}}}\n",
      "198 {'a_0_b_0': {'a_1_b_0': {'b_0_a_2': {}, 'a_1_b_1': {}}, 'a_0_b_1': {}, 'a_1_b_1_2': {'a_2_b_1_2': {}}}}\n",
      "199 {'a_0_b_0': {'a_1_b_0': {'b_0_a_2': {}, 'a_1_b_1': {'a_2_b_1': {}}}, 'a_0_b_1': {'a_1_b_1_3': {}}, 'a_1_b_1_2': {'a_2_b_1_2': {}}}}\n",
      "200 {'a_0_b_0': {'a_1_b_0': {'b_0_a_2': {}, 'a_1_b_1': {}}, 'a_0_b_1': {'a_1_b_1_3': {}}, 'a_1_b_1_2': {'a_2_b_1_2': {}}}}\n",
      "201 {'a_0_b_0': {'a_1_b_0': {'b_0_a_2': {}, 'a_1_b_1': {'a_2_b_1': {}}}, 'a_0_b_1': {}, 'a_1_b_1_2': {}}}\n",
      "202 {'a_0_b_0': {'a_1_b_0': {'b_0_a_2': {}, 'a_1_b_1': {}}, 'a_0_b_1': {}, 'a_1_b_1_2': {}}}\n",
      "203 {'a_0_b_0': {'a_1_b_0': {'b_0_a_2': {}, 'a_1_b_1': {'a_2_b_1': {}}}, 'a_0_b_1': {'a_1_b_1_3': {}}, 'a_1_b_1_2': {}}}\n",
      "204 {'a_0_b_0': {'a_1_b_0': {'b_0_a_2': {}, 'a_1_b_1': {}}, 'a_0_b_1': {'a_1_b_1_3': {}}, 'a_1_b_1_2': {}}}\n",
      "205 {'a_0_b_0': {'a_1_b_0': {'b_0_a_2': {'b_1_a_2': {}}, 'a_1_b_1': {'a_2_b_1': {}}, 'b_1_a_2_2': {}}, 'a_0_b_1': {'a_1_b_1_3': {'a_2_b_1_3': {}}}, 'a_1_b_1_2': {'a_2_b_1_2': {}}}}\n",
      "206 {'a_0_b_0': {'a_1_b_0': {'b_0_a_2': {'b_1_a_2': {}}, 'a_1_b_1': {}, 'b_1_a_2_2': {}}, 'a_0_b_1': {'a_1_b_1_3': {'a_2_b_1_3': {}}}, 'a_1_b_1_2': {'a_2_b_1_2': {}}}}\n",
      "207 {'a_0_b_0': {'a_1_b_0': {'b_0_a_2': {'b_1_a_2': {}}, 'a_1_b_1': {'a_2_b_1': {}}, 'b_1_a_2_2': {}}, 'a_0_b_1': {'a_1_b_1_3': {'a_2_b_1_3': {}}}, 'a_1_b_1_2': {}}}\n",
      "208 {'a_0_b_0': {'a_1_b_0': {'b_0_a_2': {'b_1_a_2': {}}, 'a_1_b_1': {}, 'b_1_a_2_2': {}}, 'a_0_b_1': {'a_1_b_1_3': {'a_2_b_1_3': {}}}, 'a_1_b_1_2': {}}}\n",
      "209 {'a_0_b_0': {'a_1_b_0': {'b_0_a_2': {'b_1_a_2': {}}, 'a_1_b_1': {'a_2_b_1': {}}, 'b_1_a_2_2': {}}, 'a_0_b_1': {}, 'a_1_b_1_2': {'a_2_b_1_2': {}}}}\n",
      "210 {'a_0_b_0': {'a_1_b_0': {'b_0_a_2': {'b_1_a_2': {}}, 'a_1_b_1': {}, 'b_1_a_2_2': {}}, 'a_0_b_1': {}, 'a_1_b_1_2': {'a_2_b_1_2': {}}}}\n",
      "211 {'a_0_b_0': {'a_1_b_0': {'b_0_a_2': {'b_1_a_2': {}}, 'a_1_b_1': {'a_2_b_1': {}}, 'b_1_a_2_2': {}}, 'a_0_b_1': {'a_1_b_1_3': {}}, 'a_1_b_1_2': {'a_2_b_1_2': {}}}}\n",
      "212 {'a_0_b_0': {'a_1_b_0': {'b_0_a_2': {'b_1_a_2': {}}, 'a_1_b_1': {}, 'b_1_a_2_2': {}}, 'a_0_b_1': {'a_1_b_1_3': {}}, 'a_1_b_1_2': {'a_2_b_1_2': {}}}}\n",
      "213 {'a_0_b_0': {'a_1_b_0': {'b_0_a_2': {'b_1_a_2': {}}, 'a_1_b_1': {'a_2_b_1': {}}, 'b_1_a_2_2': {}}, 'a_0_b_1': {}, 'a_1_b_1_2': {}}}\n",
      "214 {'a_0_b_0': {'a_1_b_0': {'b_0_a_2': {'b_1_a_2': {}}, 'a_1_b_1': {}, 'b_1_a_2_2': {}}, 'a_0_b_1': {}, 'a_1_b_1_2': {}}}\n",
      "215 {'a_0_b_0': {'a_1_b_0': {'b_0_a_2': {'b_1_a_2': {}}, 'a_1_b_1': {'a_2_b_1': {}}, 'b_1_a_2_2': {}}, 'a_0_b_1': {'a_1_b_1_3': {}}, 'a_1_b_1_2': {}}}\n",
      "216 {'a_0_b_0': {'a_1_b_0': {'b_0_a_2': {'b_1_a_2': {}}, 'a_1_b_1': {}, 'b_1_a_2_2': {}}, 'a_0_b_1': {'a_1_b_1_3': {}}, 'a_1_b_1_2': {}}}\n",
      "217 {'a_0_b_0': {'a_1_b_0': {'b_0_a_2': {}, 'a_1_b_1': {'a_2_b_1': {}}, 'b_1_a_2_2': {}}, 'a_0_b_1': {'a_1_b_1_3': {'a_2_b_1_3': {}}}, 'a_1_b_1_2': {'a_2_b_1_2': {}}}}\n",
      "218 {'a_0_b_0': {'a_1_b_0': {'b_0_a_2': {}, 'a_1_b_1': {}, 'b_1_a_2_2': {}}, 'a_0_b_1': {'a_1_b_1_3': {'a_2_b_1_3': {}}}, 'a_1_b_1_2': {'a_2_b_1_2': {}}}}\n",
      "219 {'a_0_b_0': {'a_1_b_0': {'b_0_a_2': {}, 'a_1_b_1': {'a_2_b_1': {}}, 'b_1_a_2_2': {}}, 'a_0_b_1': {'a_1_b_1_3': {'a_2_b_1_3': {}}}, 'a_1_b_1_2': {}}}\n",
      "220 {'a_0_b_0': {'a_1_b_0': {'b_0_a_2': {}, 'a_1_b_1': {}, 'b_1_a_2_2': {}}, 'a_0_b_1': {'a_1_b_1_3': {'a_2_b_1_3': {}}}, 'a_1_b_1_2': {}}}\n",
      "221 {'a_0_b_0': {'a_1_b_0': {'b_0_a_2': {}, 'a_1_b_1': {'a_2_b_1': {}}, 'b_1_a_2_2': {}}, 'a_0_b_1': {}, 'a_1_b_1_2': {'a_2_b_1_2': {}}}}\n",
      "222 {'a_0_b_0': {'a_1_b_0': {'b_0_a_2': {}, 'a_1_b_1': {}, 'b_1_a_2_2': {}}, 'a_0_b_1': {}, 'a_1_b_1_2': {'a_2_b_1_2': {}}}}\n",
      "223 {'a_0_b_0': {'a_1_b_0': {'b_0_a_2': {}, 'a_1_b_1': {'a_2_b_1': {}}, 'b_1_a_2_2': {}}, 'a_0_b_1': {'a_1_b_1_3': {}}, 'a_1_b_1_2': {'a_2_b_1_2': {}}}}\n",
      "224 {'a_0_b_0': {'a_1_b_0': {'b_0_a_2': {}, 'a_1_b_1': {}, 'b_1_a_2_2': {}}, 'a_0_b_1': {'a_1_b_1_3': {}}, 'a_1_b_1_2': {'a_2_b_1_2': {}}}}\n",
      "225 {'a_0_b_0': {'a_1_b_0': {'b_0_a_2': {}, 'a_1_b_1': {'a_2_b_1': {}}, 'b_1_a_2_2': {}}, 'a_0_b_1': {}, 'a_1_b_1_2': {}}}\n",
      "226 {'a_0_b_0': {'a_1_b_0': {'b_0_a_2': {}, 'a_1_b_1': {}, 'b_1_a_2_2': {}}, 'a_0_b_1': {}, 'a_1_b_1_2': {}}}\n",
      "227 {'a_0_b_0': {'a_1_b_0': {'b_0_a_2': {}, 'a_1_b_1': {'a_2_b_1': {}}, 'b_1_a_2_2': {}}, 'a_0_b_1': {'a_1_b_1_3': {}}, 'a_1_b_1_2': {}}}\n",
      "228 {'a_0_b_0': {'a_1_b_0': {'b_0_a_2': {}, 'a_1_b_1': {}, 'b_1_a_2_2': {}}, 'a_0_b_1': {'a_1_b_1_3': {}}, 'a_1_b_1_2': {}}}\n"
     ]
    }
   ],
   "source": [
    "L1 = get_all_subtrees(ThreexTwo)"
   ]
  },
  {
   "cell_type": "code",
   "execution_count": 49,
   "metadata": {},
   "outputs": [],
   "source": [
    "def restrict(F, n):\n",
    "    # Initialize an empty list of trees\n",
    "    restricted_trees = []\n",
    "    # Iterate over the trees in F\n",
    "    for tree in F.trees:\n",
    "        # Call the restrict_tree helper function on each tree and append the result to the restricted_trees list\n",
    "        restricted_trees.append(restrict_tree(tree, n))\n",
    "    # Create a new instance of the FF class with the restricted_trees list and return it\n",
    "    return FF(restricted_trees)\n",
    "\n",
    "def restrict_tree(tree, n, depth=1):\n",
    "    # Helper function to restrict a tree by removing nodes of distance greater than n from the root\n",
    "    if depth > n :\n",
    "        return {}\n",
    "    restricted_tree = {}\n",
    "    for key, value in tree.items():\n",
    "        restricted_tree[key] = restrict_tree(value, n, depth + 1)\n",
    "    return restricted_tree\n"
   ]
  },
  {
   "cell_type": "code",
   "execution_count": 50,
   "metadata": {},
   "outputs": [
    {
     "name": "stdout",
     "output_type": "stream",
     "text": [
      "{'a_0_b_0': {'a_0_b_1': {'a_1_b_1': {}},\n",
      "             'b_0_a_1': {'b_1_a_1': {}},\n",
      "             'b_1_a_1_2': {}}}\n"
     ]
    }
   ],
   "source": [
    "Two_a = FF([{\"a_0\": {\"a_1\": {}}}])\n",
    "Two_b = FF([{\"b_0\": {\"b_1\": {}}}])\n",
    "TwoxTwo = Two_a * Two_b\n",
    "rename_nodes(TwoxTwo)\n",
    "display_trees(TwoxTwo)"
   ]
  },
  {
   "cell_type": "code",
   "execution_count": 51,
   "metadata": {},
   "outputs": [
    {
     "name": "stdout",
     "output_type": "stream",
     "text": [
      "{'a_0_b_0': {}}\n"
     ]
    }
   ],
   "source": [
    "restricted_2x2 = restrict(TwoxTwo,1)\n",
    "display_trees(restricted_2x2)"
   ]
  },
  {
   "cell_type": "code",
   "execution_count": 52,
   "metadata": {},
   "outputs": [
    {
     "name": "stdout",
     "output_type": "stream",
     "text": [
      "{'a_0_b_0': {'a_0_b_1': {}, 'b_0_a_1': {}, 'b_1_a_1_2': {}}}\n"
     ]
    }
   ],
   "source": [
    "restricted_2x2 = restrict(TwoxTwo,2)\n",
    "display_trees(restricted_2x2)"
   ]
  },
  {
   "cell_type": "code",
   "execution_count": 53,
   "metadata": {},
   "outputs": [],
   "source": [
    "def find_ext(T, tree_list):\n",
    "    # Initialize an empty list to store the trees that contain all the node names of T\n",
    "    result = []\n",
    "    # Iterate over the trees in tree_list\n",
    "    for tree in tree_list:\n",
    "        # Call the contains_all_nodes helper function to check if all the node names of T appear in the current tree\n",
    "        if contains_all_nodes(T, tree):\n",
    "            # If all the node names of T appear in the current tree, add the current tree to the result list\n",
    "            result.append(tree)\n",
    "    # Print the enumerated result list\n",
    "    for i, tree in enumerate(result):\n",
    "        print(f\"{i+1}. {tree}\")\n",
    "\n",
    "def contains_all_nodes(T, tree):\n",
    "    # Flatten T and tree into sets of node names\n",
    "    T_nodes = set(flatten_tree(T))\n",
    "    tree_nodes = set(flatten_tree(tree))\n",
    "    # Check if all the node names in T_nodes appear in tree_nodes\n",
    "    return T_nodes.issubset(tree_nodes)\n",
    "\n",
    "def flatten_tree(tree):\n",
    "    # Helper function to flatten a tree into a list of node names\n",
    "    result = []\n",
    "    for key, value in tree.items():\n",
    "        result.append(key)\n",
    "        result.extend(flatten_tree(value))\n",
    "    return result\n"
   ]
  },
  {
   "cell_type": "code",
   "execution_count": 54,
   "metadata": {},
   "outputs": [
    {
     "name": "stdout",
     "output_type": "stream",
     "text": [
      "{'a_0_b_0': {'a_0_b_1': {'a_1_b_1_3': {'a_2_b_1_3': {}}},\n",
      "             'a_1_b_0': {'a_1_b_1': {'a_2_b_1': {}},\n",
      "                         'b_0_a_2': {'b_1_a_2': {}},\n",
      "                         'b_1_a_2_2': {}},\n",
      "             'a_1_b_1_2': {'a_2_b_1_2': {}}}}\n"
     ]
    }
   ],
   "source": [
    "ThreexTwo = Three_a * Two_b\n",
    "rename_nodes(ThreexTwo)\n",
    "display_trees(ThreexTwo)"
   ]
  },
  {
   "cell_type": "code",
   "execution_count": 55,
   "metadata": {},
   "outputs": [
    {
     "name": "stdout",
     "output_type": "stream",
     "text": [
      "{'a_0_b_0': {'a_0_b_1': {'a_1_b_1_3': {}},\n",
      "             'a_1_b_0': {'a_1_b_1': {}, 'b_0_a_2': {}, 'b_1_a_2_2': {}},\n",
      "             'a_1_b_1_2': {'a_2_b_1_2': {}}}}\n"
     ]
    }
   ],
   "source": [
    "restricted_3x2 = restrict(ThreexTwo,3)\n",
    "display_trees(restricted_3x2)"
   ]
  },
  {
   "cell_type": "code",
   "execution_count": 56,
   "metadata": {},
   "outputs": [],
   "source": [
    "t = {'a_0_b_0': {'a_0_b_1': {'a_1_b_1_3': {}},\n",
    "             'a_1_b_0': {'a_1_b_1': {}},\n",
    "             'a_1_b_1_2': {}}}"
   ]
  },
  {
   "cell_type": "code",
   "execution_count": 59,
   "metadata": {},
   "outputs": [
    {
     "name": "stdout",
     "output_type": "stream",
     "text": [
      "1 {'a_0_b_0': {'a_1_b_0': {'b_1_a_2_2': {}}}}\n",
      "2 {'a_0_b_0': {}}\n",
      "3 {'a_0_b_0': {'a_1_b_1_2': {'a_2_b_1_2': {}}}}\n",
      "4 {'a_0_b_0': {'a_1_b_1_2': {}}}\n",
      "5 {'a_0_b_0': {'a_1_b_0': {'a_1_b_1': {}}}}\n",
      "6 {'a_0_b_0': {'a_0_b_1': {'a_1_b_1_3': {}}}}\n",
      "7 {'a_0_b_0': {'a_0_b_1': {}}}\n",
      "8 {'a_0_b_0': {'a_1_b_0': {'b_0_a_2': {}}}}\n",
      "9 {'a_0_b_0': {'a_1_b_0': {}}}\n",
      "10 {'a_0_b_0': {'a_1_b_0': {'b_1_a_2_2': {}}, 'a_1_b_1_2': {'a_2_b_1_2': {}}}}\n",
      "11 {'a_0_b_0': {'a_1_b_0': {'b_1_a_2_2': {}}, 'a_1_b_1_2': {}}}\n",
      "12 {'a_0_b_0': {'a_1_b_0': {'a_1_b_1': {}, 'b_1_a_2_2': {}}}}\n",
      "13 {'a_0_b_0': {'a_1_b_0': {'b_1_a_2_2': {}}, 'a_0_b_1': {'a_1_b_1_3': {}}}}\n",
      "14 {'a_0_b_0': {'a_1_b_0': {'b_1_a_2_2': {}}, 'a_0_b_1': {}}}\n",
      "15 {'a_0_b_0': {'a_1_b_0': {'b_0_a_2': {}, 'b_1_a_2_2': {}}}}\n",
      "16 {'a_0_b_0': {'a_1_b_0': {'a_1_b_1': {}}, 'a_1_b_1_2': {'a_2_b_1_2': {}}}}\n",
      "17 {'a_0_b_0': {'a_0_b_1': {'a_1_b_1_3': {}}, 'a_1_b_1_2': {'a_2_b_1_2': {}}}}\n",
      "18 {'a_0_b_0': {'a_0_b_1': {}, 'a_1_b_1_2': {'a_2_b_1_2': {}}}}\n",
      "19 {'a_0_b_0': {'a_1_b_0': {'b_0_a_2': {}}, 'a_1_b_1_2': {'a_2_b_1_2': {}}}}\n",
      "20 {'a_0_b_0': {'a_1_b_0': {}, 'a_1_b_1_2': {'a_2_b_1_2': {}}}}\n",
      "21 {'a_0_b_0': {'a_1_b_0': {'a_1_b_1': {}}, 'a_1_b_1_2': {}}}\n",
      "22 {'a_0_b_0': {'a_0_b_1': {'a_1_b_1_3': {}}, 'a_1_b_1_2': {}}}\n",
      "23 {'a_0_b_0': {'a_0_b_1': {}, 'a_1_b_1_2': {}}}\n",
      "24 {'a_0_b_0': {'a_1_b_0': {'b_0_a_2': {}}, 'a_1_b_1_2': {}}}\n",
      "25 {'a_0_b_0': {'a_1_b_0': {}, 'a_1_b_1_2': {}}}\n",
      "26 {'a_0_b_0': {'a_1_b_0': {'a_1_b_1': {}}, 'a_0_b_1': {'a_1_b_1_3': {}}}}\n",
      "27 {'a_0_b_0': {'a_1_b_0': {'a_1_b_1': {}}, 'a_0_b_1': {}}}\n",
      "28 {'a_0_b_0': {'a_1_b_0': {'b_0_a_2': {}, 'a_1_b_1': {}}}}\n",
      "29 {'a_0_b_0': {'a_1_b_0': {'b_0_a_2': {}}, 'a_0_b_1': {'a_1_b_1_3': {}}}}\n",
      "30 {'a_0_b_0': {'a_1_b_0': {}, 'a_0_b_1': {'a_1_b_1_3': {}}}}\n",
      "31 {'a_0_b_0': {'a_1_b_0': {'b_0_a_2': {}}, 'a_0_b_1': {}}}\n",
      "32 {'a_0_b_0': {'a_1_b_0': {}, 'a_0_b_1': {}}}\n",
      "33 {'a_0_b_0': {'a_1_b_0': {'a_1_b_1': {}, 'b_1_a_2_2': {}}, 'a_1_b_1_2': {'a_2_b_1_2': {}}}}\n",
      "34 {'a_0_b_0': {'a_1_b_0': {'b_1_a_2_2': {}}, 'a_0_b_1': {'a_1_b_1_3': {}}, 'a_1_b_1_2': {'a_2_b_1_2': {}}}}\n",
      "35 {'a_0_b_0': {'a_1_b_0': {'b_1_a_2_2': {}}, 'a_0_b_1': {}, 'a_1_b_1_2': {'a_2_b_1_2': {}}}}\n",
      "36 {'a_0_b_0': {'a_1_b_0': {'b_0_a_2': {}, 'b_1_a_2_2': {}}, 'a_1_b_1_2': {'a_2_b_1_2': {}}}}\n",
      "37 {'a_0_b_0': {'a_1_b_0': {'a_1_b_1': {}, 'b_1_a_2_2': {}}, 'a_1_b_1_2': {}}}\n",
      "38 {'a_0_b_0': {'a_1_b_0': {'b_1_a_2_2': {}}, 'a_0_b_1': {'a_1_b_1_3': {}}, 'a_1_b_1_2': {}}}\n",
      "39 {'a_0_b_0': {'a_1_b_0': {'b_1_a_2_2': {}}, 'a_0_b_1': {}, 'a_1_b_1_2': {}}}\n",
      "40 {'a_0_b_0': {'a_1_b_0': {'b_0_a_2': {}, 'b_1_a_2_2': {}}, 'a_1_b_1_2': {}}}\n",
      "41 {'a_0_b_0': {'a_1_b_0': {'a_1_b_1': {}, 'b_1_a_2_2': {}}, 'a_0_b_1': {'a_1_b_1_3': {}}}}\n",
      "42 {'a_0_b_0': {'a_1_b_0': {'a_1_b_1': {}, 'b_1_a_2_2': {}}, 'a_0_b_1': {}}}\n",
      "43 {'a_0_b_0': {'a_1_b_0': {'b_0_a_2': {}, 'a_1_b_1': {}, 'b_1_a_2_2': {}}}}\n",
      "44 {'a_0_b_0': {'a_1_b_0': {'b_0_a_2': {}, 'b_1_a_2_2': {}}, 'a_0_b_1': {'a_1_b_1_3': {}}}}\n",
      "45 {'a_0_b_0': {'a_1_b_0': {'b_0_a_2': {}, 'b_1_a_2_2': {}}, 'a_0_b_1': {}}}\n",
      "46 {'a_0_b_0': {'a_1_b_0': {'a_1_b_1': {}}, 'a_0_b_1': {'a_1_b_1_3': {}}, 'a_1_b_1_2': {'a_2_b_1_2': {}}}}\n",
      "47 {'a_0_b_0': {'a_1_b_0': {'a_1_b_1': {}}, 'a_0_b_1': {}, 'a_1_b_1_2': {'a_2_b_1_2': {}}}}\n",
      "48 {'a_0_b_0': {'a_1_b_0': {'b_0_a_2': {}, 'a_1_b_1': {}}, 'a_1_b_1_2': {'a_2_b_1_2': {}}}}\n",
      "49 {'a_0_b_0': {'a_1_b_0': {'b_0_a_2': {}}, 'a_0_b_1': {'a_1_b_1_3': {}}, 'a_1_b_1_2': {'a_2_b_1_2': {}}}}\n",
      "50 {'a_0_b_0': {'a_1_b_0': {}, 'a_0_b_1': {'a_1_b_1_3': {}}, 'a_1_b_1_2': {'a_2_b_1_2': {}}}}\n",
      "51 {'a_0_b_0': {'a_1_b_0': {'b_0_a_2': {}}, 'a_0_b_1': {}, 'a_1_b_1_2': {'a_2_b_1_2': {}}}}\n",
      "52 {'a_0_b_0': {'a_1_b_0': {}, 'a_0_b_1': {}, 'a_1_b_1_2': {'a_2_b_1_2': {}}}}\n",
      "53 {'a_0_b_0': {'a_1_b_0': {'a_1_b_1': {}}, 'a_0_b_1': {'a_1_b_1_3': {}}, 'a_1_b_1_2': {}}}\n",
      "54 {'a_0_b_0': {'a_1_b_0': {'a_1_b_1': {}}, 'a_0_b_1': {}, 'a_1_b_1_2': {}}}\n",
      "55 {'a_0_b_0': {'a_1_b_0': {'b_0_a_2': {}, 'a_1_b_1': {}}, 'a_1_b_1_2': {}}}\n",
      "56 {'a_0_b_0': {'a_1_b_0': {'b_0_a_2': {}}, 'a_0_b_1': {'a_1_b_1_3': {}}, 'a_1_b_1_2': {}}}\n",
      "57 {'a_0_b_0': {'a_1_b_0': {}, 'a_0_b_1': {'a_1_b_1_3': {}}, 'a_1_b_1_2': {}}}\n",
      "58 {'a_0_b_0': {'a_1_b_0': {'b_0_a_2': {}}, 'a_0_b_1': {}, 'a_1_b_1_2': {}}}\n",
      "59 {'a_0_b_0': {'a_1_b_0': {}, 'a_0_b_1': {}, 'a_1_b_1_2': {}}}\n",
      "60 {'a_0_b_0': {'a_1_b_0': {'b_0_a_2': {}, 'a_1_b_1': {}}, 'a_0_b_1': {'a_1_b_1_3': {}}}}\n",
      "61 {'a_0_b_0': {'a_1_b_0': {'b_0_a_2': {}, 'a_1_b_1': {}}, 'a_0_b_1': {}}}\n",
      "62 {'a_0_b_0': {'a_1_b_0': {'a_1_b_1': {}, 'b_1_a_2_2': {}}, 'a_0_b_1': {'a_1_b_1_3': {}}, 'a_1_b_1_2': {'a_2_b_1_2': {}}}}\n",
      "63 {'a_0_b_0': {'a_1_b_0': {'a_1_b_1': {}, 'b_1_a_2_2': {}}, 'a_0_b_1': {}, 'a_1_b_1_2': {'a_2_b_1_2': {}}}}\n",
      "64 {'a_0_b_0': {'a_1_b_0': {'b_0_a_2': {}, 'a_1_b_1': {}, 'b_1_a_2_2': {}}, 'a_1_b_1_2': {'a_2_b_1_2': {}}}}\n",
      "65 {'a_0_b_0': {'a_1_b_0': {'b_0_a_2': {}, 'b_1_a_2_2': {}}, 'a_0_b_1': {'a_1_b_1_3': {}}, 'a_1_b_1_2': {'a_2_b_1_2': {}}}}\n",
      "66 {'a_0_b_0': {'a_1_b_0': {'b_0_a_2': {}, 'b_1_a_2_2': {}}, 'a_0_b_1': {}, 'a_1_b_1_2': {'a_2_b_1_2': {}}}}\n",
      "67 {'a_0_b_0': {'a_1_b_0': {'a_1_b_1': {}, 'b_1_a_2_2': {}}, 'a_0_b_1': {'a_1_b_1_3': {}}, 'a_1_b_1_2': {}}}\n",
      "68 {'a_0_b_0': {'a_1_b_0': {'a_1_b_1': {}, 'b_1_a_2_2': {}}, 'a_0_b_1': {}, 'a_1_b_1_2': {}}}\n",
      "69 {'a_0_b_0': {'a_1_b_0': {'b_0_a_2': {}, 'a_1_b_1': {}, 'b_1_a_2_2': {}}, 'a_1_b_1_2': {}}}\n",
      "70 {'a_0_b_0': {'a_1_b_0': {'b_0_a_2': {}, 'b_1_a_2_2': {}}, 'a_0_b_1': {'a_1_b_1_3': {}}, 'a_1_b_1_2': {}}}\n",
      "71 {'a_0_b_0': {'a_1_b_0': {'b_0_a_2': {}, 'b_1_a_2_2': {}}, 'a_0_b_1': {}, 'a_1_b_1_2': {}}}\n",
      "72 {'a_0_b_0': {'a_1_b_0': {'b_0_a_2': {}, 'a_1_b_1': {}, 'b_1_a_2_2': {}}, 'a_0_b_1': {'a_1_b_1_3': {}}}}\n",
      "73 {'a_0_b_0': {'a_1_b_0': {'b_0_a_2': {}, 'a_1_b_1': {}, 'b_1_a_2_2': {}}, 'a_0_b_1': {}}}\n",
      "74 {'a_0_b_0': {'a_1_b_0': {'b_0_a_2': {}, 'a_1_b_1': {}}, 'a_0_b_1': {'a_1_b_1_3': {}}, 'a_1_b_1_2': {'a_2_b_1_2': {}}}}\n",
      "75 {'a_0_b_0': {'a_1_b_0': {'b_0_a_2': {}, 'a_1_b_1': {}}, 'a_0_b_1': {}, 'a_1_b_1_2': {'a_2_b_1_2': {}}}}\n",
      "76 {'a_0_b_0': {'a_1_b_0': {'b_0_a_2': {}, 'a_1_b_1': {}}, 'a_0_b_1': {'a_1_b_1_3': {}}, 'a_1_b_1_2': {}}}\n",
      "77 {'a_0_b_0': {'a_1_b_0': {'b_0_a_2': {}, 'a_1_b_1': {}}, 'a_0_b_1': {}, 'a_1_b_1_2': {}}}\n",
      "78 {'a_0_b_0': {'a_1_b_0': {'b_0_a_2': {}, 'a_1_b_1': {}, 'b_1_a_2_2': {}}, 'a_0_b_1': {'a_1_b_1_3': {}}, 'a_1_b_1_2': {'a_2_b_1_2': {}}}}\n",
      "79 {'a_0_b_0': {'a_1_b_0': {'b_0_a_2': {}, 'a_1_b_1': {}, 'b_1_a_2_2': {}}, 'a_0_b_1': {}, 'a_1_b_1_2': {'a_2_b_1_2': {}}}}\n",
      "80 {'a_0_b_0': {'a_1_b_0': {'b_0_a_2': {}, 'a_1_b_1': {}, 'b_1_a_2_2': {}}, 'a_0_b_1': {'a_1_b_1_3': {}}, 'a_1_b_1_2': {}}}\n",
      "81 {'a_0_b_0': {'a_1_b_0': {'b_0_a_2': {}, 'a_1_b_1': {}, 'b_1_a_2_2': {}}, 'a_0_b_1': {}, 'a_1_b_1_2': {}}}\n"
     ]
    }
   ],
   "source": [
    "L2 = get_all_subtrees(restricted_3x2)"
   ]
  },
  {
   "cell_type": "code",
   "execution_count": 60,
   "metadata": {},
   "outputs": [
    {
     "name": "stdout",
     "output_type": "stream",
     "text": [
      "1. {'a_0_b_0': {'a_1_b_0': {'a_1_b_1': {}}, 'a_0_b_1': {'a_1_b_1_3': {}}, 'a_1_b_1_2': {'a_2_b_1_2': {}}}}\n",
      "2. {'a_0_b_0': {'a_1_b_0': {'a_1_b_1': {}}, 'a_0_b_1': {'a_1_b_1_3': {}}, 'a_1_b_1_2': {}}}\n",
      "3. {'a_0_b_0': {'a_1_b_0': {'a_1_b_1': {}, 'b_1_a_2_2': {}}, 'a_0_b_1': {'a_1_b_1_3': {}}, 'a_1_b_1_2': {'a_2_b_1_2': {}}}}\n",
      "4. {'a_0_b_0': {'a_1_b_0': {'a_1_b_1': {}, 'b_1_a_2_2': {}}, 'a_0_b_1': {'a_1_b_1_3': {}}, 'a_1_b_1_2': {}}}\n",
      "5. {'a_0_b_0': {'a_1_b_0': {'b_0_a_2': {}, 'a_1_b_1': {}}, 'a_0_b_1': {'a_1_b_1_3': {}}, 'a_1_b_1_2': {'a_2_b_1_2': {}}}}\n",
      "6. {'a_0_b_0': {'a_1_b_0': {'b_0_a_2': {}, 'a_1_b_1': {}}, 'a_0_b_1': {'a_1_b_1_3': {}}, 'a_1_b_1_2': {}}}\n",
      "7. {'a_0_b_0': {'a_1_b_0': {'b_0_a_2': {}, 'a_1_b_1': {}, 'b_1_a_2_2': {}}, 'a_0_b_1': {'a_1_b_1_3': {}}, 'a_1_b_1_2': {'a_2_b_1_2': {}}}}\n",
      "8. {'a_0_b_0': {'a_1_b_0': {'b_0_a_2': {}, 'a_1_b_1': {}, 'b_1_a_2_2': {}}, 'a_0_b_1': {'a_1_b_1_3': {}}, 'a_1_b_1_2': {}}}\n"
     ]
    }
   ],
   "source": [
    "find_ext(t,L2)"
   ]
  },
  {
   "cell_type": "code",
   "execution_count": 61,
   "metadata": {},
   "outputs": [
    {
     "name": "stdout",
     "output_type": "stream",
     "text": [
      "1. {'a_0_b_0': {'a_1_b_0': {'a_1_b_1': {'a_2_b_1': {}}}, 'a_0_b_1': {'a_1_b_1_3': {'a_2_b_1_3': {}}}, 'a_1_b_1_2': {'a_2_b_1_2': {}}}}\n",
      "2. {'a_0_b_0': {'a_1_b_0': {'a_1_b_1': {}}, 'a_0_b_1': {'a_1_b_1_3': {'a_2_b_1_3': {}}}, 'a_1_b_1_2': {'a_2_b_1_2': {}}}}\n",
      "3. {'a_0_b_0': {'a_1_b_0': {'a_1_b_1': {'a_2_b_1': {}}}, 'a_0_b_1': {'a_1_b_1_3': {'a_2_b_1_3': {}}}, 'a_1_b_1_2': {}}}\n",
      "4. {'a_0_b_0': {'a_1_b_0': {'a_1_b_1': {}}, 'a_0_b_1': {'a_1_b_1_3': {'a_2_b_1_3': {}}}, 'a_1_b_1_2': {}}}\n",
      "5. {'a_0_b_0': {'a_1_b_0': {'a_1_b_1': {'a_2_b_1': {}}}, 'a_0_b_1': {'a_1_b_1_3': {}}, 'a_1_b_1_2': {'a_2_b_1_2': {}}}}\n",
      "6. {'a_0_b_0': {'a_1_b_0': {'a_1_b_1': {}}, 'a_0_b_1': {'a_1_b_1_3': {}}, 'a_1_b_1_2': {'a_2_b_1_2': {}}}}\n",
      "7. {'a_0_b_0': {'a_1_b_0': {'a_1_b_1': {'a_2_b_1': {}}}, 'a_0_b_1': {'a_1_b_1_3': {}}, 'a_1_b_1_2': {}}}\n",
      "8. {'a_0_b_0': {'a_1_b_0': {'a_1_b_1': {}}, 'a_0_b_1': {'a_1_b_1_3': {}}, 'a_1_b_1_2': {}}}\n",
      "9. {'a_0_b_0': {'a_1_b_0': {'a_1_b_1': {'a_2_b_1': {}}, 'b_1_a_2_2': {}}, 'a_0_b_1': {'a_1_b_1_3': {'a_2_b_1_3': {}}}, 'a_1_b_1_2': {'a_2_b_1_2': {}}}}\n",
      "10. {'a_0_b_0': {'a_1_b_0': {'a_1_b_1': {}, 'b_1_a_2_2': {}}, 'a_0_b_1': {'a_1_b_1_3': {'a_2_b_1_3': {}}}, 'a_1_b_1_2': {'a_2_b_1_2': {}}}}\n",
      "11. {'a_0_b_0': {'a_1_b_0': {'a_1_b_1': {'a_2_b_1': {}}, 'b_1_a_2_2': {}}, 'a_0_b_1': {'a_1_b_1_3': {'a_2_b_1_3': {}}}, 'a_1_b_1_2': {}}}\n",
      "12. {'a_0_b_0': {'a_1_b_0': {'a_1_b_1': {}, 'b_1_a_2_2': {}}, 'a_0_b_1': {'a_1_b_1_3': {'a_2_b_1_3': {}}}, 'a_1_b_1_2': {}}}\n",
      "13. {'a_0_b_0': {'a_1_b_0': {'a_1_b_1': {'a_2_b_1': {}}, 'b_1_a_2_2': {}}, 'a_0_b_1': {'a_1_b_1_3': {}}, 'a_1_b_1_2': {'a_2_b_1_2': {}}}}\n",
      "14. {'a_0_b_0': {'a_1_b_0': {'a_1_b_1': {}, 'b_1_a_2_2': {}}, 'a_0_b_1': {'a_1_b_1_3': {}}, 'a_1_b_1_2': {'a_2_b_1_2': {}}}}\n",
      "15. {'a_0_b_0': {'a_1_b_0': {'a_1_b_1': {'a_2_b_1': {}}, 'b_1_a_2_2': {}}, 'a_0_b_1': {'a_1_b_1_3': {}}, 'a_1_b_1_2': {}}}\n",
      "16. {'a_0_b_0': {'a_1_b_0': {'a_1_b_1': {}, 'b_1_a_2_2': {}}, 'a_0_b_1': {'a_1_b_1_3': {}}, 'a_1_b_1_2': {}}}\n",
      "17. {'a_0_b_0': {'a_1_b_0': {'b_0_a_2': {'b_1_a_2': {}}, 'a_1_b_1': {'a_2_b_1': {}}}, 'a_0_b_1': {'a_1_b_1_3': {'a_2_b_1_3': {}}}, 'a_1_b_1_2': {'a_2_b_1_2': {}}}}\n",
      "18. {'a_0_b_0': {'a_1_b_0': {'b_0_a_2': {'b_1_a_2': {}}, 'a_1_b_1': {}}, 'a_0_b_1': {'a_1_b_1_3': {'a_2_b_1_3': {}}}, 'a_1_b_1_2': {'a_2_b_1_2': {}}}}\n",
      "19. {'a_0_b_0': {'a_1_b_0': {'b_0_a_2': {'b_1_a_2': {}}, 'a_1_b_1': {'a_2_b_1': {}}}, 'a_0_b_1': {'a_1_b_1_3': {'a_2_b_1_3': {}}}, 'a_1_b_1_2': {}}}\n",
      "20. {'a_0_b_0': {'a_1_b_0': {'b_0_a_2': {'b_1_a_2': {}}, 'a_1_b_1': {}}, 'a_0_b_1': {'a_1_b_1_3': {'a_2_b_1_3': {}}}, 'a_1_b_1_2': {}}}\n",
      "21. {'a_0_b_0': {'a_1_b_0': {'b_0_a_2': {'b_1_a_2': {}}, 'a_1_b_1': {'a_2_b_1': {}}}, 'a_0_b_1': {'a_1_b_1_3': {}}, 'a_1_b_1_2': {'a_2_b_1_2': {}}}}\n",
      "22. {'a_0_b_0': {'a_1_b_0': {'b_0_a_2': {'b_1_a_2': {}}, 'a_1_b_1': {}}, 'a_0_b_1': {'a_1_b_1_3': {}}, 'a_1_b_1_2': {'a_2_b_1_2': {}}}}\n",
      "23. {'a_0_b_0': {'a_1_b_0': {'b_0_a_2': {'b_1_a_2': {}}, 'a_1_b_1': {'a_2_b_1': {}}}, 'a_0_b_1': {'a_1_b_1_3': {}}, 'a_1_b_1_2': {}}}\n",
      "24. {'a_0_b_0': {'a_1_b_0': {'b_0_a_2': {'b_1_a_2': {}}, 'a_1_b_1': {}}, 'a_0_b_1': {'a_1_b_1_3': {}}, 'a_1_b_1_2': {}}}\n",
      "25. {'a_0_b_0': {'a_1_b_0': {'b_0_a_2': {}, 'a_1_b_1': {'a_2_b_1': {}}}, 'a_0_b_1': {'a_1_b_1_3': {'a_2_b_1_3': {}}}, 'a_1_b_1_2': {'a_2_b_1_2': {}}}}\n",
      "26. {'a_0_b_0': {'a_1_b_0': {'b_0_a_2': {}, 'a_1_b_1': {}}, 'a_0_b_1': {'a_1_b_1_3': {'a_2_b_1_3': {}}}, 'a_1_b_1_2': {'a_2_b_1_2': {}}}}\n",
      "27. {'a_0_b_0': {'a_1_b_0': {'b_0_a_2': {}, 'a_1_b_1': {'a_2_b_1': {}}}, 'a_0_b_1': {'a_1_b_1_3': {'a_2_b_1_3': {}}}, 'a_1_b_1_2': {}}}\n",
      "28. {'a_0_b_0': {'a_1_b_0': {'b_0_a_2': {}, 'a_1_b_1': {}}, 'a_0_b_1': {'a_1_b_1_3': {'a_2_b_1_3': {}}}, 'a_1_b_1_2': {}}}\n",
      "29. {'a_0_b_0': {'a_1_b_0': {'b_0_a_2': {}, 'a_1_b_1': {'a_2_b_1': {}}}, 'a_0_b_1': {'a_1_b_1_3': {}}, 'a_1_b_1_2': {'a_2_b_1_2': {}}}}\n",
      "30. {'a_0_b_0': {'a_1_b_0': {'b_0_a_2': {}, 'a_1_b_1': {}}, 'a_0_b_1': {'a_1_b_1_3': {}}, 'a_1_b_1_2': {'a_2_b_1_2': {}}}}\n",
      "31. {'a_0_b_0': {'a_1_b_0': {'b_0_a_2': {}, 'a_1_b_1': {'a_2_b_1': {}}}, 'a_0_b_1': {'a_1_b_1_3': {}}, 'a_1_b_1_2': {}}}\n",
      "32. {'a_0_b_0': {'a_1_b_0': {'b_0_a_2': {}, 'a_1_b_1': {}}, 'a_0_b_1': {'a_1_b_1_3': {}}, 'a_1_b_1_2': {}}}\n",
      "33. {'a_0_b_0': {'a_1_b_0': {'b_0_a_2': {'b_1_a_2': {}}, 'a_1_b_1': {'a_2_b_1': {}}, 'b_1_a_2_2': {}}, 'a_0_b_1': {'a_1_b_1_3': {'a_2_b_1_3': {}}}, 'a_1_b_1_2': {'a_2_b_1_2': {}}}}\n",
      "34. {'a_0_b_0': {'a_1_b_0': {'b_0_a_2': {'b_1_a_2': {}}, 'a_1_b_1': {}, 'b_1_a_2_2': {}}, 'a_0_b_1': {'a_1_b_1_3': {'a_2_b_1_3': {}}}, 'a_1_b_1_2': {'a_2_b_1_2': {}}}}\n",
      "35. {'a_0_b_0': {'a_1_b_0': {'b_0_a_2': {'b_1_a_2': {}}, 'a_1_b_1': {'a_2_b_1': {}}, 'b_1_a_2_2': {}}, 'a_0_b_1': {'a_1_b_1_3': {'a_2_b_1_3': {}}}, 'a_1_b_1_2': {}}}\n",
      "36. {'a_0_b_0': {'a_1_b_0': {'b_0_a_2': {'b_1_a_2': {}}, 'a_1_b_1': {}, 'b_1_a_2_2': {}}, 'a_0_b_1': {'a_1_b_1_3': {'a_2_b_1_3': {}}}, 'a_1_b_1_2': {}}}\n",
      "37. {'a_0_b_0': {'a_1_b_0': {'b_0_a_2': {'b_1_a_2': {}}, 'a_1_b_1': {'a_2_b_1': {}}, 'b_1_a_2_2': {}}, 'a_0_b_1': {'a_1_b_1_3': {}}, 'a_1_b_1_2': {'a_2_b_1_2': {}}}}\n",
      "38. {'a_0_b_0': {'a_1_b_0': {'b_0_a_2': {'b_1_a_2': {}}, 'a_1_b_1': {}, 'b_1_a_2_2': {}}, 'a_0_b_1': {'a_1_b_1_3': {}}, 'a_1_b_1_2': {'a_2_b_1_2': {}}}}\n",
      "39. {'a_0_b_0': {'a_1_b_0': {'b_0_a_2': {'b_1_a_2': {}}, 'a_1_b_1': {'a_2_b_1': {}}, 'b_1_a_2_2': {}}, 'a_0_b_1': {'a_1_b_1_3': {}}, 'a_1_b_1_2': {}}}\n",
      "40. {'a_0_b_0': {'a_1_b_0': {'b_0_a_2': {'b_1_a_2': {}}, 'a_1_b_1': {}, 'b_1_a_2_2': {}}, 'a_0_b_1': {'a_1_b_1_3': {}}, 'a_1_b_1_2': {}}}\n",
      "41. {'a_0_b_0': {'a_1_b_0': {'b_0_a_2': {}, 'a_1_b_1': {'a_2_b_1': {}}, 'b_1_a_2_2': {}}, 'a_0_b_1': {'a_1_b_1_3': {'a_2_b_1_3': {}}}, 'a_1_b_1_2': {'a_2_b_1_2': {}}}}\n",
      "42. {'a_0_b_0': {'a_1_b_0': {'b_0_a_2': {}, 'a_1_b_1': {}, 'b_1_a_2_2': {}}, 'a_0_b_1': {'a_1_b_1_3': {'a_2_b_1_3': {}}}, 'a_1_b_1_2': {'a_2_b_1_2': {}}}}\n",
      "43. {'a_0_b_0': {'a_1_b_0': {'b_0_a_2': {}, 'a_1_b_1': {'a_2_b_1': {}}, 'b_1_a_2_2': {}}, 'a_0_b_1': {'a_1_b_1_3': {'a_2_b_1_3': {}}}, 'a_1_b_1_2': {}}}\n",
      "44. {'a_0_b_0': {'a_1_b_0': {'b_0_a_2': {}, 'a_1_b_1': {}, 'b_1_a_2_2': {}}, 'a_0_b_1': {'a_1_b_1_3': {'a_2_b_1_3': {}}}, 'a_1_b_1_2': {}}}\n",
      "45. {'a_0_b_0': {'a_1_b_0': {'b_0_a_2': {}, 'a_1_b_1': {'a_2_b_1': {}}, 'b_1_a_2_2': {}}, 'a_0_b_1': {'a_1_b_1_3': {}}, 'a_1_b_1_2': {'a_2_b_1_2': {}}}}\n",
      "46. {'a_0_b_0': {'a_1_b_0': {'b_0_a_2': {}, 'a_1_b_1': {}, 'b_1_a_2_2': {}}, 'a_0_b_1': {'a_1_b_1_3': {}}, 'a_1_b_1_2': {'a_2_b_1_2': {}}}}\n",
      "47. {'a_0_b_0': {'a_1_b_0': {'b_0_a_2': {}, 'a_1_b_1': {'a_2_b_1': {}}, 'b_1_a_2_2': {}}, 'a_0_b_1': {'a_1_b_1_3': {}}, 'a_1_b_1_2': {}}}\n",
      "48. {'a_0_b_0': {'a_1_b_0': {'b_0_a_2': {}, 'a_1_b_1': {}, 'b_1_a_2_2': {}}, 'a_0_b_1': {'a_1_b_1_3': {}}, 'a_1_b_1_2': {}}}\n"
     ]
    }
   ],
   "source": [
    "find_ext(t,L1)"
   ]
  },
  {
   "cell_type": "code",
   "execution_count": 62,
   "metadata": {},
   "outputs": [],
   "source": [
    "def times(n, F):\n",
    "    result = FF([])\n",
    "    for _ in range(n):\n",
    "        result = result + F\n",
    "    return result"
   ]
  },
  {
   "cell_type": "code",
   "execution_count": 64,
   "metadata": {},
   "outputs": [
    {
     "name": "stdout",
     "output_type": "stream",
     "text": [
      "{'b_0': {'b_1': {}}}\n",
      "{'b_0': {'b_1': {}}}\n",
      "{'b_0': {'b_1': {}}}\n"
     ]
    }
   ],
   "source": [
    "Test = times(3, Two_b)\n",
    "display_trees(Test)"
   ]
  },
  {
   "cell_type": "code",
   "execution_count": 65,
   "metadata": {},
   "outputs": [],
   "source": [
    "def exp(F, G):\n",
    "    # Check if F and G both have a list of trees with only one tree\n",
    "    if len(F.trees) != 1 or len(G.trees) != 1:\n",
    "        return \"undefined\"\n",
    "    \n",
    "     # Check if the length of the tree in F or the tree in G is greater than 2\n",
    "    if tree_length(F.trees[0]) > 2 or tree_length(G.trees[0]) > 2:\n",
    "        return \"undefined\"\n",
    "    \n",
    "    # Calculate card(F) ^ card(trim(G))\n",
    "    aux_0 = card(F) ** card(trim(G))\n",
    "    \n",
    "    # Calculate card(F) ^ card(G) - 1\n",
    "    aux_1 = ( card(F) ** card(G) ) - 1\n",
    "    \n",
    "    # Compute times(aux_1, One)\n",
    "    result_0 = times(aux_1, One)\n",
    "    \n",
    "    # Take bott(result_0, \"r\")\n",
    "    result_1 = bott(result_0, \"r\")\n",
    "    \n",
    "    # Return times(aux_0, result_1)\n",
    "    return times(aux_0, result_1)"
   ]
  },
  {
   "cell_type": "code",
   "execution_count": 66,
   "metadata": {},
   "outputs": [
    {
     "name": "stdout",
     "output_type": "stream",
     "text": [
      "{'r': {'One': {}, 'One_1': {}, 'One_2': {}}}\n",
      "{'r': {'One': {}, 'One_1': {}, 'One_2': {}}}\n"
     ]
    }
   ],
   "source": [
    "display_trees(exp(Two_a,Two_a))"
   ]
  },
  {
   "cell_type": "code",
   "execution_count": 67,
   "metadata": {},
   "outputs": [
    {
     "name": "stdout",
     "output_type": "stream",
     "text": [
      "{'r': {}}\n"
     ]
    }
   ],
   "source": [
    "display_trees(exp(One,Two_a))"
   ]
  },
  {
   "cell_type": "code",
   "execution_count": 68,
   "metadata": {},
   "outputs": [
    {
     "name": "stdout",
     "output_type": "stream",
     "text": [
      "{'r': {'One': {}}}\n"
     ]
    }
   ],
   "source": [
    "display_trees(exp(Two_a,One))"
   ]
  },
  {
   "cell_type": "code",
   "execution_count": 69,
   "metadata": {},
   "outputs": [],
   "source": [
    "def exp_ff(F, G):\n",
    "    # Check if the length of the tree in F or the tree in G is greater than 2\n",
    "    if any(tree_length(tree) > 2 for tree in F.trees + G.trees):\n",
    "        return \"undefined\"\n",
    "   \n",
    "    # Create a list of FF objects for F each with a single tree s.t. their sum is equal to F\n",
    "    F_list = [FF([tree]) for tree in F.trees]\n",
    "    # Create a list of FF objects for G each with a single tree s.t. their sum is equal to G\n",
    "    G_list = [FF([tree]) for tree in G.trees]\n",
    "    # Initialize the result to One\n",
    "    result = One\n",
    "    \n",
    "     # Iterate over the G_list\n",
    "    for G_j in G_list:\n",
    "        # Compute the sum of all exp(F_i, G_j) for each F_i in F_list\n",
    "        result_j = FF([])\n",
    "        for F_i in F_list:\n",
    "            result_j += exp(F_i, G_j)\n",
    "        \n",
    "        # Update result by multiplying it with result_j\n",
    "        result *= result_j\n",
    "    \n",
    "    # Return the final result\n",
    "    return restrict(result,2)"
   ]
  },
  {
   "cell_type": "code",
   "execution_count": 72,
   "metadata": {},
   "outputs": [
    {
     "name": "stdout",
     "output_type": "stream",
     "text": [
      "{'r_One': {}}\n",
      "{'r_One': {'One_1_One': {}, 'One_2_One': {}, 'One_One': {}}}\n",
      "{'r_One': {'One_1_One': {}, 'One_2_One': {}, 'One_One': {}}}\n"
     ]
    }
   ],
   "source": [
    "display_trees(exp_ff(Omega,Two_a))"
   ]
  },
  {
   "cell_type": "code",
   "execution_count": null,
   "metadata": {},
   "outputs": [],
   "source": []
  }
 ],
 "metadata": {
  "kernelspec": {
   "display_name": "Python 3",
   "language": "python",
   "name": "python3"
  },
  "language_info": {
   "codemirror_mode": {
    "name": "ipython",
    "version": 3
   },
   "file_extension": ".py",
   "mimetype": "text/x-python",
   "name": "python",
   "nbconvert_exporter": "python",
   "pygments_lexer": "ipython3",
   "version": "3.8.3"
  }
 },
 "nbformat": 4,
 "nbformat_minor": 4
}
